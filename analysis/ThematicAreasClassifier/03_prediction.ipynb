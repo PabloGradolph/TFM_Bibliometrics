{
 "cells": [
  {
   "cell_type": "code",
   "execution_count": 6,
   "metadata": {},
   "outputs": [
    {
     "name": "stdout",
     "output_type": "stream",
     "text": [
      "\u001b[1m35/35\u001b[0m \u001b[32m━━━━━━━━━━━━━━━━━━━━\u001b[0m\u001b[37m\u001b[0m \u001b[1m0s\u001b[0m 4ms/step\n",
      "✅ Predicciones y probabilidades guardadas correctamente.\n"
     ]
    }
   ],
   "source": [
    "import pandas as pd\n",
    "import numpy as np\n",
    "import tensorflow as tf\n",
    "import joblib\n",
    "\n",
    "# === 1. Cargar modelo y binarizador\n",
    "model = tf.keras.models.load_model(\"models/best_model_3x1024_dropout04.keras\")\n",
    "mlb = joblib.load(\"models/label_binarizer.joblib\")\n",
    "label_names = mlb.classes_\n",
    "\n",
    "# === 2. Cargar dataset a predecir\n",
    "X_pred = pd.read_csv(\"X_to_predict_ready.csv\", index_col='gb_id')\n",
    "\n",
    "# === 3. Realizar predicción de probabilidades\n",
    "y_pred_proba = model.predict(X_pred)\n",
    "y_pred = (y_pred_proba > 0.4).astype(int)\n",
    "\n",
    "# === 4. Forzar al menos una etiqueta por fila\n",
    "for i in range(len(y_pred)):\n",
    "    if y_pred[i].sum() == 0:\n",
    "        y_pred[i, np.argmax(y_pred_proba[i])] = 1\n",
    "\n",
    "# === 5. Reconstruir etiquetas predichas\n",
    "predicted_labels = mlb.inverse_transform(y_pred)\n",
    "predicted_labels_str = [';'.join(lbls) if lbls else '' for lbls in predicted_labels]\n",
    "\n",
    "# === 6. Crear DataFrame con predicciones y probabilidades\n",
    "df_result = pd.DataFrame(y_pred_proba, columns=label_names, index=X_pred.index)\n",
    "df_result.insert(0, 'predicted_labels', predicted_labels_str)\n",
    "df_result.insert(0, 'gb_id', X_pred.index)\n",
    "\n",
    "# === 7. Guardar a CSV\n",
    "df_result.to_csv(\"predictions_with_probabilities.csv\", index=False)\n",
    "print(\"✅ Predicciones y probabilidades guardadas correctamente.\")\n"
   ]
  }
 ],
 "metadata": {
  "kernelspec": {
   "display_name": "venv",
   "language": "python",
   "name": "python3"
  },
  "language_info": {
   "codemirror_mode": {
    "name": "ipython",
    "version": 3
   },
   "file_extension": ".py",
   "mimetype": "text/x-python",
   "name": "python",
   "nbconvert_exporter": "python",
   "pygments_lexer": "ipython3",
   "version": "3.12.8"
  }
 },
 "nbformat": 4,
 "nbformat_minor": 2
}
