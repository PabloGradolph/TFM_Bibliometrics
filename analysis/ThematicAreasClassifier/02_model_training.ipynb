{
 "cells": [
  {
   "cell_type": "code",
   "execution_count": 2,
   "metadata": {},
   "outputs": [
    {
     "name": "stdout",
     "output_type": "stream",
     "text": [
      "\n",
      "📊 Entrenando con experiments\\X_2000_1000\n"
     ]
    },
    {
     "name": "stderr",
     "output_type": "stream",
     "text": [
      "c:\\Users\\Pablo\\OneDrive\\Documentos\\Estudios\\DATCOM\\Trabajo Fin de Máster\\App\\venv\\Lib\\site-packages\\keras\\src\\layers\\core\\dense.py:93: UserWarning: Do not pass an `input_shape`/`input_dim` argument to a layer. When using Sequential models, prefer using an `Input(shape)` object as the first layer in the model instead.\n",
      "  super().__init__(activity_regularizer=activity_regularizer, **kwargs)\n"
     ]
    },
    {
     "name": "stdout",
     "output_type": "stream",
     "text": [
      "\u001b[1m14/14\u001b[0m \u001b[32m━━━━━━━━━━━━━━━━━━━━\u001b[0m\u001b[37m\u001b[0m \u001b[1m0s\u001b[0m 4ms/step \n",
      "\n",
      "📊 Entrenando con experiments\\X_2000_500\n"
     ]
    },
    {
     "name": "stderr",
     "output_type": "stream",
     "text": [
      "c:\\Users\\Pablo\\OneDrive\\Documentos\\Estudios\\DATCOM\\Trabajo Fin de Máster\\App\\venv\\Lib\\site-packages\\keras\\src\\layers\\core\\dense.py:93: UserWarning: Do not pass an `input_shape`/`input_dim` argument to a layer. When using Sequential models, prefer using an `Input(shape)` object as the first layer in the model instead.\n",
      "  super().__init__(activity_regularizer=activity_regularizer, **kwargs)\n"
     ]
    },
    {
     "name": "stdout",
     "output_type": "stream",
     "text": [
      "\u001b[1m14/14\u001b[0m \u001b[32m━━━━━━━━━━━━━━━━━━━━\u001b[0m\u001b[37m\u001b[0m \u001b[1m0s\u001b[0m 4ms/step \n",
      "\n",
      "📊 Entrenando con experiments\\X_2000_750\n"
     ]
    },
    {
     "name": "stderr",
     "output_type": "stream",
     "text": [
      "c:\\Users\\Pablo\\OneDrive\\Documentos\\Estudios\\DATCOM\\Trabajo Fin de Máster\\App\\venv\\Lib\\site-packages\\keras\\src\\layers\\core\\dense.py:93: UserWarning: Do not pass an `input_shape`/`input_dim` argument to a layer. When using Sequential models, prefer using an `Input(shape)` object as the first layer in the model instead.\n",
      "  super().__init__(activity_regularizer=activity_regularizer, **kwargs)\n"
     ]
    },
    {
     "name": "stdout",
     "output_type": "stream",
     "text": [
      "\u001b[1m14/14\u001b[0m \u001b[32m━━━━━━━━━━━━━━━━━━━━\u001b[0m\u001b[37m\u001b[0m \u001b[1m0s\u001b[0m 3ms/step \n",
      "\n",
      "📊 Entrenando con experiments\\X_2000_850\n"
     ]
    },
    {
     "name": "stderr",
     "output_type": "stream",
     "text": [
      "c:\\Users\\Pablo\\OneDrive\\Documentos\\Estudios\\DATCOM\\Trabajo Fin de Máster\\App\\venv\\Lib\\site-packages\\keras\\src\\layers\\core\\dense.py:93: UserWarning: Do not pass an `input_shape`/`input_dim` argument to a layer. When using Sequential models, prefer using an `Input(shape)` object as the first layer in the model instead.\n",
      "  super().__init__(activity_regularizer=activity_regularizer, **kwargs)\n"
     ]
    },
    {
     "name": "stdout",
     "output_type": "stream",
     "text": [
      "\u001b[1m14/14\u001b[0m \u001b[32m━━━━━━━━━━━━━━━━━━━━\u001b[0m\u001b[37m\u001b[0m \u001b[1m0s\u001b[0m 4ms/step \n",
      "\n",
      "📊 Entrenando con experiments\\X_3000_1000\n"
     ]
    },
    {
     "name": "stderr",
     "output_type": "stream",
     "text": [
      "c:\\Users\\Pablo\\OneDrive\\Documentos\\Estudios\\DATCOM\\Trabajo Fin de Máster\\App\\venv\\Lib\\site-packages\\keras\\src\\layers\\core\\dense.py:93: UserWarning: Do not pass an `input_shape`/`input_dim` argument to a layer. When using Sequential models, prefer using an `Input(shape)` object as the first layer in the model instead.\n",
      "  super().__init__(activity_regularizer=activity_regularizer, **kwargs)\n"
     ]
    },
    {
     "name": "stdout",
     "output_type": "stream",
     "text": [
      "\u001b[1m14/14\u001b[0m \u001b[32m━━━━━━━━━━━━━━━━━━━━\u001b[0m\u001b[37m\u001b[0m \u001b[1m0s\u001b[0m 4ms/step \n",
      "\n",
      "📊 Entrenando con experiments\\X_3000_500\n"
     ]
    },
    {
     "name": "stderr",
     "output_type": "stream",
     "text": [
      "c:\\Users\\Pablo\\OneDrive\\Documentos\\Estudios\\DATCOM\\Trabajo Fin de Máster\\App\\venv\\Lib\\site-packages\\keras\\src\\layers\\core\\dense.py:93: UserWarning: Do not pass an `input_shape`/`input_dim` argument to a layer. When using Sequential models, prefer using an `Input(shape)` object as the first layer in the model instead.\n",
      "  super().__init__(activity_regularizer=activity_regularizer, **kwargs)\n"
     ]
    },
    {
     "name": "stdout",
     "output_type": "stream",
     "text": [
      "\u001b[1m14/14\u001b[0m \u001b[32m━━━━━━━━━━━━━━━━━━━━\u001b[0m\u001b[37m\u001b[0m \u001b[1m0s\u001b[0m 4ms/step \n",
      "\n",
      "📊 Entrenando con experiments\\X_3000_750\n"
     ]
    },
    {
     "name": "stderr",
     "output_type": "stream",
     "text": [
      "c:\\Users\\Pablo\\OneDrive\\Documentos\\Estudios\\DATCOM\\Trabajo Fin de Máster\\App\\venv\\Lib\\site-packages\\keras\\src\\layers\\core\\dense.py:93: UserWarning: Do not pass an `input_shape`/`input_dim` argument to a layer. When using Sequential models, prefer using an `Input(shape)` object as the first layer in the model instead.\n",
      "  super().__init__(activity_regularizer=activity_regularizer, **kwargs)\n"
     ]
    },
    {
     "name": "stdout",
     "output_type": "stream",
     "text": [
      "\u001b[1m14/14\u001b[0m \u001b[32m━━━━━━━━━━━━━━━━━━━━\u001b[0m\u001b[37m\u001b[0m \u001b[1m0s\u001b[0m 4ms/step \n",
      "\n",
      "📊 Entrenando con experiments\\X_3000_850\n"
     ]
    },
    {
     "name": "stderr",
     "output_type": "stream",
     "text": [
      "c:\\Users\\Pablo\\OneDrive\\Documentos\\Estudios\\DATCOM\\Trabajo Fin de Máster\\App\\venv\\Lib\\site-packages\\keras\\src\\layers\\core\\dense.py:93: UserWarning: Do not pass an `input_shape`/`input_dim` argument to a layer. When using Sequential models, prefer using an `Input(shape)` object as the first layer in the model instead.\n",
      "  super().__init__(activity_regularizer=activity_regularizer, **kwargs)\n"
     ]
    },
    {
     "name": "stdout",
     "output_type": "stream",
     "text": [
      "\u001b[1m14/14\u001b[0m \u001b[32m━━━━━━━━━━━━━━━━━━━━\u001b[0m\u001b[37m\u001b[0m \u001b[1m0s\u001b[0m 5ms/step \n",
      "\n",
      "📊 Entrenando con experiments\\X_5000_1000\n"
     ]
    },
    {
     "name": "stderr",
     "output_type": "stream",
     "text": [
      "c:\\Users\\Pablo\\OneDrive\\Documentos\\Estudios\\DATCOM\\Trabajo Fin de Máster\\App\\venv\\Lib\\site-packages\\keras\\src\\layers\\core\\dense.py:93: UserWarning: Do not pass an `input_shape`/`input_dim` argument to a layer. When using Sequential models, prefer using an `Input(shape)` object as the first layer in the model instead.\n",
      "  super().__init__(activity_regularizer=activity_regularizer, **kwargs)\n"
     ]
    },
    {
     "name": "stdout",
     "output_type": "stream",
     "text": [
      "\u001b[1m14/14\u001b[0m \u001b[32m━━━━━━━━━━━━━━━━━━━━\u001b[0m\u001b[37m\u001b[0m \u001b[1m0s\u001b[0m 5ms/step\n",
      "\n",
      "📊 Entrenando con experiments\\X_5000_500\n"
     ]
    },
    {
     "name": "stderr",
     "output_type": "stream",
     "text": [
      "c:\\Users\\Pablo\\OneDrive\\Documentos\\Estudios\\DATCOM\\Trabajo Fin de Máster\\App\\venv\\Lib\\site-packages\\keras\\src\\layers\\core\\dense.py:93: UserWarning: Do not pass an `input_shape`/`input_dim` argument to a layer. When using Sequential models, prefer using an `Input(shape)` object as the first layer in the model instead.\n",
      "  super().__init__(activity_regularizer=activity_regularizer, **kwargs)\n"
     ]
    },
    {
     "name": "stdout",
     "output_type": "stream",
     "text": [
      "\u001b[1m14/14\u001b[0m \u001b[32m━━━━━━━━━━━━━━━━━━━━\u001b[0m\u001b[37m\u001b[0m \u001b[1m0s\u001b[0m 4ms/step \n",
      "\n",
      "📊 Entrenando con experiments\\X_5000_750\n"
     ]
    },
    {
     "name": "stderr",
     "output_type": "stream",
     "text": [
      "c:\\Users\\Pablo\\OneDrive\\Documentos\\Estudios\\DATCOM\\Trabajo Fin de Máster\\App\\venv\\Lib\\site-packages\\keras\\src\\layers\\core\\dense.py:93: UserWarning: Do not pass an `input_shape`/`input_dim` argument to a layer. When using Sequential models, prefer using an `Input(shape)` object as the first layer in the model instead.\n",
      "  super().__init__(activity_regularizer=activity_regularizer, **kwargs)\n"
     ]
    },
    {
     "name": "stdout",
     "output_type": "stream",
     "text": [
      "\u001b[1m14/14\u001b[0m \u001b[32m━━━━━━━━━━━━━━━━━━━━\u001b[0m\u001b[37m\u001b[0m \u001b[1m0s\u001b[0m 4ms/step \n",
      "\n",
      "📊 Entrenando con experiments\\X_5000_850\n"
     ]
    },
    {
     "name": "stderr",
     "output_type": "stream",
     "text": [
      "c:\\Users\\Pablo\\OneDrive\\Documentos\\Estudios\\DATCOM\\Trabajo Fin de Máster\\App\\venv\\Lib\\site-packages\\keras\\src\\layers\\core\\dense.py:93: UserWarning: Do not pass an `input_shape`/`input_dim` argument to a layer. When using Sequential models, prefer using an `Input(shape)` object as the first layer in the model instead.\n",
      "  super().__init__(activity_regularizer=activity_regularizer, **kwargs)\n"
     ]
    },
    {
     "name": "stdout",
     "output_type": "stream",
     "text": [
      "\u001b[1m14/14\u001b[0m \u001b[32m━━━━━━━━━━━━━━━━━━━━\u001b[0m\u001b[37m\u001b[0m \u001b[1m0s\u001b[0m 4ms/step \n",
      "\n",
      "🏆 Resultados ordenados por F1 micro:\n",
      "                     folder  f1_micro  f1_macro\n",
      "1    experiments\\X_2000_500  0.876325  0.588517\n",
      "6    experiments\\X_3000_750  0.874552  0.593489\n",
      "7    experiments\\X_3000_850  0.874113  0.593168\n",
      "5    experiments\\X_3000_500  0.872021  0.558529\n",
      "9    experiments\\X_5000_500  0.867556  0.545278\n",
      "11   experiments\\X_5000_850  0.867209  0.538922\n",
      "10   experiments\\X_5000_750  0.865158  0.545878\n",
      "8   experiments\\X_5000_1000  0.861086  0.470854\n",
      "4   experiments\\X_3000_1000  0.861060  0.481259\n",
      "0   experiments\\X_2000_1000  0.860507  0.496434\n",
      "2    experiments\\X_2000_750  0.856881  0.459482\n",
      "3    experiments\\X_2000_850  0.852727  0.466602\n"
     ]
    }
   ],
   "source": [
    "import os\n",
    "from sklearn.model_selection import train_test_split\n",
    "from sklearn.preprocessing import MultiLabelBinarizer\n",
    "from sklearn.metrics import f1_score\n",
    "import pandas as pd\n",
    "import numpy as np\n",
    "import tensorflow as tf\n",
    "from tensorflow.keras.models import Sequential\n",
    "from tensorflow.keras.layers import Dense, Dropout\n",
    "from tensorflow.keras.callbacks import EarlyStopping\n",
    "\n",
    "# === Directorios de experimentos ===\n",
    "folders = [f.path for f in os.scandir(\"experiments\") if f.is_dir()]\n",
    "\n",
    "results = []\n",
    "\n",
    "for folder in folders:\n",
    "    print(f\"\\n📊 Entrenando con {folder}\")\n",
    "\n",
    "    X = pd.read_csv(f\"{folder}/X_ready.csv\", index_col=0)\n",
    "    y = pd.read_csv(f\"{folder}/y_ready.csv\", index_col=0)\n",
    "    y['label_list'] = y['label'].str.split(';')\n",
    "    \n",
    "    mlb = MultiLabelBinarizer()\n",
    "    y_mlb = mlb.fit_transform(y['label_list'])\n",
    "\n",
    "    X_train, X_val, y_train, y_val = train_test_split(\n",
    "        X, y_mlb, test_size=0.2, stratify=y['label'], random_state=42\n",
    "    )\n",
    "\n",
    "    model = Sequential([\n",
    "        Dense(512, activation='relu', input_shape=(X_train.shape[1],)),\n",
    "        Dropout(0.3),\n",
    "        Dense(256, activation='relu'),\n",
    "        Dropout(0.3),\n",
    "        Dense(y_train.shape[1], activation='sigmoid')\n",
    "    ])\n",
    "\n",
    "    model.compile(\n",
    "        loss='binary_crossentropy',\n",
    "        optimizer='adam',\n",
    "        metrics=['accuracy']\n",
    "    )\n",
    "\n",
    "    es = EarlyStopping(monitor='val_loss', patience=5, restore_best_weights=True)\n",
    "\n",
    "    model.fit(X_train, y_train, validation_data=(X_val, y_val),\n",
    "              epochs=100, batch_size=32, callbacks=[es], verbose=0)\n",
    "\n",
    "    y_pred = (model.predict(X_val) > 0.5).astype(int)\n",
    "    f1_micro = f1_score(y_val, y_pred, average='micro')\n",
    "    f1_macro = f1_score(y_val, y_pred, average='macro')\n",
    "\n",
    "    results.append({\n",
    "        'folder': folder,\n",
    "        'f1_micro': f1_micro,\n",
    "        'f1_macro': f1_macro\n",
    "    })\n",
    "\n",
    "# === Mostrar ranking de resultados ===\n",
    "df_results = pd.DataFrame(results)\n",
    "df_results = df_results.sort_values('f1_micro', ascending=False)\n",
    "print(\"\\n🏆 Resultados ordenados por F1 micro:\")\n",
    "print(df_results)\n"
   ]
  },
  {
   "cell_type": "code",
   "execution_count": 4,
   "metadata": {},
   "outputs": [
    {
     "name": "stdout",
     "output_type": "stream",
     "text": [
      "Entrenando con {'units1': 512, 'units2': 256, 'dropout': 0.3}\n"
     ]
    },
    {
     "name": "stderr",
     "output_type": "stream",
     "text": [
      "c:\\Users\\Pablo\\OneDrive\\Documentos\\Estudios\\DATCOM\\Trabajo Fin de Máster\\App\\venv\\Lib\\site-packages\\keras\\src\\layers\\core\\dense.py:93: UserWarning: Do not pass an `input_shape`/`input_dim` argument to a layer. When using Sequential models, prefer using an `Input(shape)` object as the first layer in the model instead.\n",
      "  super().__init__(activity_regularizer=activity_regularizer, **kwargs)\n"
     ]
    },
    {
     "name": "stdout",
     "output_type": "stream",
     "text": [
      "\u001b[1m14/14\u001b[0m \u001b[32m━━━━━━━━━━━━━━━━━━━━\u001b[0m\u001b[37m\u001b[0m \u001b[1m0s\u001b[0m 4ms/step \n",
      "Entrenando con {'units1': 512, 'units2': 128, 'dropout': 0.3}\n"
     ]
    },
    {
     "name": "stderr",
     "output_type": "stream",
     "text": [
      "c:\\Users\\Pablo\\OneDrive\\Documentos\\Estudios\\DATCOM\\Trabajo Fin de Máster\\App\\venv\\Lib\\site-packages\\keras\\src\\layers\\core\\dense.py:93: UserWarning: Do not pass an `input_shape`/`input_dim` argument to a layer. When using Sequential models, prefer using an `Input(shape)` object as the first layer in the model instead.\n",
      "  super().__init__(activity_regularizer=activity_regularizer, **kwargs)\n"
     ]
    },
    {
     "name": "stdout",
     "output_type": "stream",
     "text": [
      "\u001b[1m14/14\u001b[0m \u001b[32m━━━━━━━━━━━━━━━━━━━━\u001b[0m\u001b[37m\u001b[0m \u001b[1m0s\u001b[0m 4ms/step \n",
      "Entrenando con {'units1': 256, 'units2': 128, 'dropout': 0.3}\n"
     ]
    },
    {
     "name": "stderr",
     "output_type": "stream",
     "text": [
      "c:\\Users\\Pablo\\OneDrive\\Documentos\\Estudios\\DATCOM\\Trabajo Fin de Máster\\App\\venv\\Lib\\site-packages\\keras\\src\\layers\\core\\dense.py:93: UserWarning: Do not pass an `input_shape`/`input_dim` argument to a layer. When using Sequential models, prefer using an `Input(shape)` object as the first layer in the model instead.\n",
      "  super().__init__(activity_regularizer=activity_regularizer, **kwargs)\n"
     ]
    },
    {
     "name": "stdout",
     "output_type": "stream",
     "text": [
      "\u001b[1m14/14\u001b[0m \u001b[32m━━━━━━━━━━━━━━━━━━━━\u001b[0m\u001b[37m\u001b[0m \u001b[1m0s\u001b[0m 4ms/step \n",
      "Entrenando con {'units1': 512, 'units2': 256, 'dropout': 0.5}\n"
     ]
    },
    {
     "name": "stderr",
     "output_type": "stream",
     "text": [
      "c:\\Users\\Pablo\\OneDrive\\Documentos\\Estudios\\DATCOM\\Trabajo Fin de Máster\\App\\venv\\Lib\\site-packages\\keras\\src\\layers\\core\\dense.py:93: UserWarning: Do not pass an `input_shape`/`input_dim` argument to a layer. When using Sequential models, prefer using an `Input(shape)` object as the first layer in the model instead.\n",
      "  super().__init__(activity_regularizer=activity_regularizer, **kwargs)\n"
     ]
    },
    {
     "name": "stdout",
     "output_type": "stream",
     "text": [
      "\u001b[1m14/14\u001b[0m \u001b[32m━━━━━━━━━━━━━━━━━━━━\u001b[0m\u001b[37m\u001b[0m \u001b[1m0s\u001b[0m 4ms/step \n",
      "Entrenando con {'units1': 512, 'units2': 256, 'dropout': 0.2}\n"
     ]
    },
    {
     "name": "stderr",
     "output_type": "stream",
     "text": [
      "c:\\Users\\Pablo\\OneDrive\\Documentos\\Estudios\\DATCOM\\Trabajo Fin de Máster\\App\\venv\\Lib\\site-packages\\keras\\src\\layers\\core\\dense.py:93: UserWarning: Do not pass an `input_shape`/`input_dim` argument to a layer. When using Sequential models, prefer using an `Input(shape)` object as the first layer in the model instead.\n",
      "  super().__init__(activity_regularizer=activity_regularizer, **kwargs)\n"
     ]
    },
    {
     "name": "stdout",
     "output_type": "stream",
     "text": [
      "\u001b[1m14/14\u001b[0m \u001b[32m━━━━━━━━━━━━━━━━━━━━\u001b[0m\u001b[37m\u001b[0m \u001b[1m0s\u001b[0m 6ms/step\n",
      "   units1  units2  dropout  f1_micro  f1_macro\n",
      "3     512     256      0.5  0.924545  0.702099\n",
      "2     256     128      0.3  0.917688  0.688431\n",
      "4     512     256      0.2  0.914894  0.626932\n",
      "1     512     128      0.3  0.912775  0.642197\n",
      "0     512     256      0.3  0.910382  0.621681\n"
     ]
    }
   ],
   "source": [
    "import pandas as pd\n",
    "import numpy as np\n",
    "from sklearn.model_selection import train_test_split\n",
    "from sklearn.preprocessing import MultiLabelBinarizer\n",
    "from sklearn.metrics import f1_score\n",
    "import tensorflow as tf\n",
    "from tensorflow.keras.models import Sequential\n",
    "from tensorflow.keras.layers import Dense, Dropout\n",
    "from tensorflow.keras.callbacks import EarlyStopping\n",
    "\n",
    "# === Cargar datos ===\n",
    "X = pd.read_csv(\"X_ready.csv\", index_col='gb_id')\n",
    "y = pd.read_csv(\"y_ready.csv\", index_col='gb_id')\n",
    "\n",
    "# === Binarizar etiquetas ===\n",
    "mlb = MultiLabelBinarizer()\n",
    "y['label_list'] = y['label'].str.split(';')\n",
    "y_mlb = mlb.fit_transform(y['label_list'])\n",
    "\n",
    "# === Dividir datos ===\n",
    "X_train, X_val, y_train, y_val = train_test_split(\n",
    "    X, y_mlb, stratify=y['label'], test_size=0.2, random_state=42\n",
    ")\n",
    "\n",
    "# === Definir combinaciones de hiperparámetros ===\n",
    "configs = [\n",
    "    {\"units1\": 512, \"units2\": 256, \"dropout\": 0.3},\n",
    "    {\"units1\": 512, \"units2\": 128, \"dropout\": 0.3},\n",
    "    {\"units1\": 256, \"units2\": 128, \"dropout\": 0.3},\n",
    "    {\"units1\": 512, \"units2\": 256, \"dropout\": 0.5},\n",
    "    {\"units1\": 512, \"units2\": 256, \"dropout\": 0.2},\n",
    "]\n",
    "\n",
    "# === Entrenar y evaluar ===\n",
    "results = []\n",
    "\n",
    "for cfg in configs:\n",
    "    tf.keras.backend.clear_session()\n",
    "    print(f\"Entrenando con {cfg}\")\n",
    "\n",
    "    model = Sequential([\n",
    "        Dense(cfg[\"units1\"], activation='relu', input_shape=(X_train.shape[1],)),\n",
    "        Dropout(cfg[\"dropout\"]),\n",
    "        Dense(cfg[\"units2\"], activation='relu'),\n",
    "        Dropout(cfg[\"dropout\"]),\n",
    "        Dense(y_train.shape[1], activation='sigmoid')\n",
    "    ])\n",
    "\n",
    "    model.compile(\n",
    "        loss='binary_crossentropy',\n",
    "        optimizer='adam',\n",
    "        metrics=['accuracy']\n",
    "    )\n",
    "\n",
    "    early_stop = EarlyStopping(monitor='val_loss', patience=5, restore_best_weights=True)\n",
    "\n",
    "    model.fit(\n",
    "        X_train, y_train,\n",
    "        validation_data=(X_val, y_val),\n",
    "        epochs=100,\n",
    "        batch_size=32,\n",
    "        callbacks=[early_stop],\n",
    "        verbose=0\n",
    "    )\n",
    "\n",
    "    y_pred = (model.predict(X_val) > 0.5).astype(int)\n",
    "    f1_micro = f1_score(y_val, y_pred, average='micro')\n",
    "    f1_macro = f1_score(y_val, y_pred, average='macro')\n",
    "\n",
    "    results.append({\n",
    "        \"units1\": cfg[\"units1\"],\n",
    "        \"units2\": cfg[\"units2\"],\n",
    "        \"dropout\": cfg[\"dropout\"],\n",
    "        \"f1_micro\": f1_micro,\n",
    "        \"f1_macro\": f1_macro\n",
    "    })\n",
    "\n",
    "# === Mostrar resultados ===\n",
    "results_df = pd.DataFrame(results)\n",
    "print(results_df.sort_values(\"f1_micro\", ascending=False))\n"
   ]
  },
  {
   "cell_type": "code",
   "execution_count": 7,
   "metadata": {},
   "outputs": [
    {
     "name": "stdout",
     "output_type": "stream",
     "text": [
      "\u001b[1m14/14\u001b[0m \u001b[32m━━━━━━━━━━━━━━━━━━━━\u001b[0m\u001b[37m\u001b[0m \u001b[1m0s\u001b[0m 4ms/step \n",
      "✅ Layers: 2, Units: 128, Dropout: 0.2 → F1_micro: 0.9078, F1_macro: 0.5796\n",
      "\u001b[1m14/14\u001b[0m \u001b[32m━━━━━━━━━━━━━━━━━━━━\u001b[0m\u001b[37m\u001b[0m \u001b[1m0s\u001b[0m 4ms/step \n",
      "✅ Layers: 2, Units: 128, Dropout: 0.3 → F1_micro: 0.9091, F1_macro: 0.5954\n",
      "\u001b[1m14/14\u001b[0m \u001b[32m━━━━━━━━━━━━━━━━━━━━\u001b[0m\u001b[37m\u001b[0m \u001b[1m0s\u001b[0m 4ms/step \n",
      "✅ Layers: 2, Units: 128, Dropout: 0.4 → F1_micro: 0.9126, F1_macro: 0.5999\n",
      "\u001b[1m14/14\u001b[0m \u001b[32m━━━━━━━━━━━━━━━━━━━━\u001b[0m\u001b[37m\u001b[0m \u001b[1m0s\u001b[0m 3ms/step \n",
      "✅ Layers: 2, Units: 128, Dropout: 0.5 → F1_micro: 0.8974, F1_macro: 0.5476\n",
      "\u001b[1m14/14\u001b[0m \u001b[32m━━━━━━━━━━━━━━━━━━━━\u001b[0m\u001b[37m\u001b[0m \u001b[1m0s\u001b[0m 3ms/step \n",
      "✅ Layers: 2, Units: 256, Dropout: 0.2 → F1_micro: 0.9213, F1_macro: 0.7258\n",
      "\u001b[1m14/14\u001b[0m \u001b[32m━━━━━━━━━━━━━━━━━━━━\u001b[0m\u001b[37m\u001b[0m \u001b[1m0s\u001b[0m 3ms/step \n",
      "✅ Layers: 2, Units: 256, Dropout: 0.3 → F1_micro: 0.9068, F1_macro: 0.6272\n",
      "\u001b[1m14/14\u001b[0m \u001b[32m━━━━━━━━━━━━━━━━━━━━\u001b[0m\u001b[37m\u001b[0m \u001b[1m0s\u001b[0m 4ms/step \n",
      "✅ Layers: 2, Units: 256, Dropout: 0.4 → F1_micro: 0.9142, F1_macro: 0.6306\n",
      "\u001b[1m14/14\u001b[0m \u001b[32m━━━━━━━━━━━━━━━━━━━━\u001b[0m\u001b[37m\u001b[0m \u001b[1m0s\u001b[0m 3ms/step \n",
      "✅ Layers: 2, Units: 256, Dropout: 0.5 → F1_micro: 0.9152, F1_macro: 0.6436\n",
      "\u001b[1m14/14\u001b[0m \u001b[32m━━━━━━━━━━━━━━━━━━━━\u001b[0m\u001b[37m\u001b[0m \u001b[1m0s\u001b[0m 4ms/step \n",
      "✅ Layers: 2, Units: 512, Dropout: 0.2 → F1_micro: 0.9227, F1_macro: 0.7243\n",
      "\u001b[1m14/14\u001b[0m \u001b[32m━━━━━━━━━━━━━━━━━━━━\u001b[0m\u001b[37m\u001b[0m \u001b[1m0s\u001b[0m 4ms/step \n",
      "✅ Layers: 2, Units: 512, Dropout: 0.3 → F1_micro: 0.9109, F1_macro: 0.6468\n",
      "\u001b[1m14/14\u001b[0m \u001b[32m━━━━━━━━━━━━━━━━━━━━\u001b[0m\u001b[37m\u001b[0m \u001b[1m0s\u001b[0m 4ms/step \n",
      "✅ Layers: 2, Units: 512, Dropout: 0.4 → F1_micro: 0.9120, F1_macro: 0.6223\n",
      "\u001b[1m14/14\u001b[0m \u001b[32m━━━━━━━━━━━━━━━━━━━━\u001b[0m\u001b[37m\u001b[0m \u001b[1m0s\u001b[0m 5ms/step \n",
      "✅ Layers: 2, Units: 512, Dropout: 0.5 → F1_micro: 0.9117, F1_macro: 0.5793\n",
      "\u001b[1m14/14\u001b[0m \u001b[32m━━━━━━━━━━━━━━━━━━━━\u001b[0m\u001b[37m\u001b[0m \u001b[1m0s\u001b[0m 5ms/step \n",
      "✅ Layers: 2, Units: 1024, Dropout: 0.2 → F1_micro: 0.9113, F1_macro: 0.6512\n",
      "\u001b[1m14/14\u001b[0m \u001b[32m━━━━━━━━━━━━━━━━━━━━\u001b[0m\u001b[37m\u001b[0m \u001b[1m0s\u001b[0m 6ms/step\n",
      "✅ Layers: 2, Units: 1024, Dropout: 0.3 → F1_micro: 0.9134, F1_macro: 0.5932\n",
      "\u001b[1m14/14\u001b[0m \u001b[32m━━━━━━━━━━━━━━━━━━━━\u001b[0m\u001b[37m\u001b[0m \u001b[1m0s\u001b[0m 6ms/step\n",
      "✅ Layers: 2, Units: 1024, Dropout: 0.4 → F1_micro: 0.9170, F1_macro: 0.6718\n",
      "\u001b[1m14/14\u001b[0m \u001b[32m━━━━━━━━━━━━━━━━━━━━\u001b[0m\u001b[37m\u001b[0m \u001b[1m0s\u001b[0m 6ms/step\n",
      "✅ Layers: 2, Units: 1024, Dropout: 0.5 → F1_micro: 0.9152, F1_macro: 0.6227\n",
      "\u001b[1m14/14\u001b[0m \u001b[32m━━━━━━━━━━━━━━━━━━━━\u001b[0m\u001b[37m\u001b[0m \u001b[1m0s\u001b[0m 5ms/step \n",
      "✅ Layers: 3, Units: 128, Dropout: 0.2 → F1_micro: 0.8956, F1_macro: 0.5099\n",
      "\u001b[1m14/14\u001b[0m \u001b[32m━━━━━━━━━━━━━━━━━━━━\u001b[0m\u001b[37m\u001b[0m \u001b[1m0s\u001b[0m 5ms/step \n",
      "✅ Layers: 3, Units: 128, Dropout: 0.3 → F1_micro: 0.9070, F1_macro: 0.5611\n",
      "\u001b[1m14/14\u001b[0m \u001b[32m━━━━━━━━━━━━━━━━━━━━\u001b[0m\u001b[37m\u001b[0m \u001b[1m0s\u001b[0m 4ms/step \n",
      "✅ Layers: 3, Units: 128, Dropout: 0.4 → F1_micro: 0.8954, F1_macro: 0.4714\n",
      "\u001b[1m14/14\u001b[0m \u001b[32m━━━━━━━━━━━━━━━━━━━━\u001b[0m\u001b[37m\u001b[0m \u001b[1m0s\u001b[0m 4ms/step \n",
      "✅ Layers: 3, Units: 128, Dropout: 0.5 → F1_micro: 0.8375, F1_macro: 0.2895\n",
      "\u001b[1m14/14\u001b[0m \u001b[32m━━━━━━━━━━━━━━━━━━━━\u001b[0m\u001b[37m\u001b[0m \u001b[1m0s\u001b[0m 4ms/step \n",
      "✅ Layers: 3, Units: 256, Dropout: 0.2 → F1_micro: 0.9181, F1_macro: 0.6029\n",
      "\u001b[1m14/14\u001b[0m \u001b[32m━━━━━━━━━━━━━━━━━━━━\u001b[0m\u001b[37m\u001b[0m \u001b[1m0s\u001b[0m 6ms/step\n",
      "✅ Layers: 3, Units: 256, Dropout: 0.3 → F1_micro: 0.9116, F1_macro: 0.6272\n",
      "\u001b[1m14/14\u001b[0m \u001b[32m━━━━━━━━━━━━━━━━━━━━\u001b[0m\u001b[37m\u001b[0m \u001b[1m0s\u001b[0m 5ms/step \n",
      "✅ Layers: 3, Units: 256, Dropout: 0.4 → F1_micro: 0.9232, F1_macro: 0.6894\n",
      "\u001b[1m14/14\u001b[0m \u001b[32m━━━━━━━━━━━━━━━━━━━━\u001b[0m\u001b[37m\u001b[0m \u001b[1m0s\u001b[0m 4ms/step \n",
      "✅ Layers: 3, Units: 256, Dropout: 0.5 → F1_micro: 0.9120, F1_macro: 0.5788\n",
      "\u001b[1m14/14\u001b[0m \u001b[32m━━━━━━━━━━━━━━━━━━━━\u001b[0m\u001b[37m\u001b[0m \u001b[1m0s\u001b[0m 4ms/step \n",
      "✅ Layers: 3, Units: 512, Dropout: 0.2 → F1_micro: 0.9177, F1_macro: 0.6366\n",
      "\u001b[1m14/14\u001b[0m \u001b[32m━━━━━━━━━━━━━━━━━━━━\u001b[0m\u001b[37m\u001b[0m \u001b[1m0s\u001b[0m 4ms/step \n",
      "✅ Layers: 3, Units: 512, Dropout: 0.3 → F1_micro: 0.9199, F1_macro: 0.6255\n",
      "\u001b[1m14/14\u001b[0m \u001b[32m━━━━━━━━━━━━━━━━━━━━\u001b[0m\u001b[37m\u001b[0m \u001b[1m0s\u001b[0m 5ms/step \n",
      "✅ Layers: 3, Units: 512, Dropout: 0.4 → F1_micro: 0.9154, F1_macro: 0.6540\n",
      "\u001b[1m14/14\u001b[0m \u001b[32m━━━━━━━━━━━━━━━━━━━━\u001b[0m\u001b[37m\u001b[0m \u001b[1m0s\u001b[0m 4ms/step \n",
      "✅ Layers: 3, Units: 512, Dropout: 0.5 → F1_micro: 0.9233, F1_macro: 0.7024\n",
      "\u001b[1m14/14\u001b[0m \u001b[32m━━━━━━━━━━━━━━━━━━━━\u001b[0m\u001b[37m\u001b[0m \u001b[1m0s\u001b[0m 5ms/step \n",
      "✅ Layers: 3, Units: 1024, Dropout: 0.2 → F1_micro: 0.9193, F1_macro: 0.7373\n",
      "\u001b[1m14/14\u001b[0m \u001b[32m━━━━━━━━━━━━━━━━━━━━\u001b[0m\u001b[37m\u001b[0m \u001b[1m0s\u001b[0m 6ms/step\n",
      "✅ Layers: 3, Units: 1024, Dropout: 0.3 → F1_micro: 0.9264, F1_macro: 0.6969\n",
      "\u001b[1m14/14\u001b[0m \u001b[32m━━━━━━━━━━━━━━━━━━━━\u001b[0m\u001b[37m\u001b[0m \u001b[1m0s\u001b[0m 6ms/step\n",
      "✅ Layers: 3, Units: 1024, Dropout: 0.4 → F1_micro: 0.9283, F1_macro: 0.7559\n",
      "\u001b[1m14/14\u001b[0m \u001b[32m━━━━━━━━━━━━━━━━━━━━\u001b[0m\u001b[37m\u001b[0m \u001b[1m0s\u001b[0m 6ms/step\n",
      "✅ Layers: 3, Units: 1024, Dropout: 0.5 → F1_micro: 0.9200, F1_macro: 0.5658\n",
      "\u001b[1m14/14\u001b[0m \u001b[32m━━━━━━━━━━━━━━━━━━━━\u001b[0m\u001b[37m\u001b[0m \u001b[1m0s\u001b[0m 7ms/step\n",
      "✅ Layers: 4, Units: 128, Dropout: 0.2 → F1_micro: 0.8813, F1_macro: 0.4647\n",
      "\u001b[1m14/14\u001b[0m \u001b[32m━━━━━━━━━━━━━━━━━━━━\u001b[0m\u001b[37m\u001b[0m \u001b[1m0s\u001b[0m 4ms/step \n",
      "✅ Layers: 4, Units: 128, Dropout: 0.3 → F1_micro: 0.7879, F1_macro: 0.2384\n",
      "\u001b[1m14/14\u001b[0m \u001b[32m━━━━━━━━━━━━━━━━━━━━\u001b[0m\u001b[37m\u001b[0m \u001b[1m0s\u001b[0m 4ms/step \n",
      "✅ Layers: 4, Units: 128, Dropout: 0.4 → F1_micro: 0.7280, F1_macro: 0.1696\n",
      "\u001b[1m14/14\u001b[0m \u001b[32m━━━━━━━━━━━━━━━━━━━━\u001b[0m\u001b[37m\u001b[0m \u001b[1m0s\u001b[0m 5ms/step \n",
      "✅ Layers: 4, Units: 128, Dropout: 0.5 → F1_micro: 0.5013, F1_macro: 0.0712\n",
      "\u001b[1m14/14\u001b[0m \u001b[32m━━━━━━━━━━━━━━━━━━━━\u001b[0m\u001b[37m\u001b[0m \u001b[1m0s\u001b[0m 5ms/step\n",
      "✅ Layers: 4, Units: 256, Dropout: 0.2 → F1_micro: 0.8952, F1_macro: 0.4978\n",
      "\u001b[1m14/14\u001b[0m \u001b[32m━━━━━━━━━━━━━━━━━━━━\u001b[0m\u001b[37m\u001b[0m \u001b[1m0s\u001b[0m 6ms/step\n",
      "✅ Layers: 4, Units: 256, Dropout: 0.3 → F1_micro: 0.8970, F1_macro: 0.5046\n",
      "\u001b[1m14/14\u001b[0m \u001b[32m━━━━━━━━━━━━━━━━━━━━\u001b[0m\u001b[37m\u001b[0m \u001b[1m0s\u001b[0m 4ms/step \n",
      "✅ Layers: 4, Units: 256, Dropout: 0.4 → F1_micro: 0.8923, F1_macro: 0.4656\n",
      "\u001b[1m14/14\u001b[0m \u001b[32m━━━━━━━━━━━━━━━━━━━━\u001b[0m\u001b[37m\u001b[0m \u001b[1m0s\u001b[0m 4ms/step \n",
      "✅ Layers: 4, Units: 256, Dropout: 0.5 → F1_micro: 0.8094, F1_macro: 0.2593\n",
      "\u001b[1m14/14\u001b[0m \u001b[32m━━━━━━━━━━━━━━━━━━━━\u001b[0m\u001b[37m\u001b[0m \u001b[1m0s\u001b[0m 6ms/step\n",
      "✅ Layers: 4, Units: 512, Dropout: 0.2 → F1_micro: 0.9094, F1_macro: 0.5373\n",
      "\u001b[1m14/14\u001b[0m \u001b[32m━━━━━━━━━━━━━━━━━━━━\u001b[0m\u001b[37m\u001b[0m \u001b[1m0s\u001b[0m 5ms/step \n",
      "✅ Layers: 4, Units: 512, Dropout: 0.3 → F1_micro: 0.9259, F1_macro: 0.7201\n",
      "\u001b[1m14/14\u001b[0m \u001b[32m━━━━━━━━━━━━━━━━━━━━\u001b[0m\u001b[37m\u001b[0m \u001b[1m0s\u001b[0m 5ms/step \n",
      "✅ Layers: 4, Units: 512, Dropout: 0.4 → F1_micro: 0.9247, F1_macro: 0.6395\n",
      "\u001b[1m14/14\u001b[0m \u001b[32m━━━━━━━━━━━━━━━━━━━━\u001b[0m\u001b[37m\u001b[0m \u001b[1m0s\u001b[0m 6ms/step\n",
      "✅ Layers: 4, Units: 512, Dropout: 0.5 → F1_micro: 0.9057, F1_macro: 0.5651\n",
      "\u001b[1m14/14\u001b[0m \u001b[32m━━━━━━━━━━━━━━━━━━━━\u001b[0m\u001b[37m\u001b[0m \u001b[1m0s\u001b[0m 6ms/step\n",
      "✅ Layers: 4, Units: 1024, Dropout: 0.2 → F1_micro: 0.9252, F1_macro: 0.6930\n",
      "\u001b[1m14/14\u001b[0m \u001b[32m━━━━━━━━━━━━━━━━━━━━\u001b[0m\u001b[37m\u001b[0m \u001b[1m0s\u001b[0m 6ms/step\n",
      "✅ Layers: 4, Units: 1024, Dropout: 0.3 → F1_micro: 0.9270, F1_macro: 0.6744\n",
      "\u001b[1m14/14\u001b[0m \u001b[32m━━━━━━━━━━━━━━━━━━━━\u001b[0m\u001b[37m\u001b[0m \u001b[1m0s\u001b[0m 6ms/step\n",
      "✅ Layers: 4, Units: 1024, Dropout: 0.4 → F1_micro: 0.9273, F1_macro: 0.6783\n",
      "\u001b[1m14/14\u001b[0m \u001b[32m━━━━━━━━━━━━━━━━━━━━\u001b[0m\u001b[37m\u001b[0m \u001b[1m0s\u001b[0m 7ms/step\n",
      "✅ Layers: 4, Units: 1024, Dropout: 0.5 → F1_micro: 0.9256, F1_macro: 0.7202\n"
     ]
    }
   ],
   "source": [
    "import pandas as pd\n",
    "import numpy as np\n",
    "from sklearn.model_selection import train_test_split\n",
    "from sklearn.preprocessing import MultiLabelBinarizer\n",
    "from sklearn.metrics import f1_score\n",
    "import tensorflow as tf\n",
    "from tensorflow.keras.models import Sequential\n",
    "from tensorflow.keras.layers import Dense, Dropout\n",
    "from tensorflow.keras.callbacks import EarlyStopping\n",
    "from tensorflow.keras import Input\n",
    "\n",
    "# === Cargar datos ===\n",
    "X = pd.read_csv(\"X_ready.csv\", index_col='gb_id')\n",
    "y = pd.read_csv(\"y_ready.csv\", index_col='gb_id')\n",
    "\n",
    "# === Binarizar etiquetas ===\n",
    "mlb = MultiLabelBinarizer()\n",
    "y['label_list'] = y['label'].str.split(';')\n",
    "y_mlb = mlb.fit_transform(y['label_list'])\n",
    "\n",
    "# === División ===\n",
    "X_train, X_val, y_train, y_val = train_test_split(\n",
    "    X, y_mlb, stratify=y['label'], test_size=0.2, random_state=42\n",
    ")\n",
    "\n",
    "# === Configuraciones ampliadas ===\n",
    "layer_options = [2, 3, 4]\n",
    "unit_options = [128, 256, 512, 1024]\n",
    "dropout_options = [0.2, 0.3, 0.4, 0.5]\n",
    "\n",
    "# === Función para secuencia de unidades decrecientes ===\n",
    "units_sequence = {\n",
    "    2: lambda u: [u, u // 2],\n",
    "    3: lambda u: [u, u // 2, u // 4],\n",
    "    4: lambda u: [u, u // 2, u // 4, u // 6],\n",
    "}\n",
    "\n",
    "# === Evaluación de modelos ===\n",
    "results = []\n",
    "\n",
    "for n_layers in layer_options:\n",
    "    for units in unit_options:\n",
    "        for dropout in dropout_options:\n",
    "            model = Sequential()\n",
    "            model.add(Input(shape=(X_train.shape[1],)))\n",
    "\n",
    "            for layer_units in units_sequence[n_layers](units):\n",
    "                model.add(Dense(layer_units, activation='relu'))\n",
    "                model.add(Dropout(dropout))\n",
    "\n",
    "\n",
    "            model.add(Dense(y_train.shape[1], activation='sigmoid'))\n",
    "\n",
    "            model.compile(\n",
    "                loss='binary_crossentropy',\n",
    "                optimizer='adam',\n",
    "                metrics=['accuracy']\n",
    "            )\n",
    "\n",
    "            early_stop = EarlyStopping(monitor='val_loss', patience=5, restore_best_weights=True)\n",
    "\n",
    "            model.fit(\n",
    "                X_train, y_train,\n",
    "                validation_data=(X_val, y_val),\n",
    "                epochs=100,\n",
    "                batch_size=32,\n",
    "                callbacks=[early_stop],\n",
    "                verbose=0\n",
    "            )\n",
    "\n",
    "            y_pred_proba = model.predict(X_val)\n",
    "            y_pred = (y_pred_proba > 0.5).astype(int)\n",
    "\n",
    "            f1_micro = f1_score(y_val, y_pred, average='micro')\n",
    "            f1_macro = f1_score(y_val, y_pred, average='macro')\n",
    "\n",
    "            print(f\"✅ Layers: {n_layers}, Units: {units}, Dropout: {dropout} → F1_micro: {f1_micro:.4f}, F1_macro: {f1_macro:.4f}\")\n",
    "\n",
    "            results.append({\n",
    "                'layers': n_layers,\n",
    "                'units': units,\n",
    "                'dropout': dropout,\n",
    "                'f1_micro': f1_micro,\n",
    "                'f1_macro': f1_macro\n",
    "            })\n",
    "\n",
    "# === Guardar resultados en CSV (opcional)\n",
    "pd.DataFrame(results).to_csv(\"experiments/nn_gridsearch_results.csv\", index=False)\n"
   ]
  },
  {
   "cell_type": "code",
   "execution_count": 4,
   "metadata": {},
   "outputs": [
    {
     "name": "stdout",
     "output_type": "stream",
     "text": [
      "Epoch 1/100\n",
      "\u001b[1m53/53\u001b[0m \u001b[32m━━━━━━━━━━━━━━━━━━━━\u001b[0m\u001b[37m\u001b[0m \u001b[1m1s\u001b[0m 10ms/step - accuracy: 0.0887 - loss: 0.3206 - val_accuracy: 0.4024 - val_loss: 0.0873\n",
      "Epoch 2/100\n",
      "\u001b[1m53/53\u001b[0m \u001b[32m━━━━━━━━━━━━━━━━━━━━\u001b[0m\u001b[37m\u001b[0m \u001b[1m0s\u001b[0m 8ms/step - accuracy: 0.3954 - loss: 0.0918 - val_accuracy: 0.5786 - val_loss: 0.0546\n",
      "Epoch 3/100\n",
      "\u001b[1m53/53\u001b[0m \u001b[32m━━━━━━━━━━━━━━━━━━━━\u001b[0m\u001b[37m\u001b[0m \u001b[1m0s\u001b[0m 7ms/step - accuracy: 0.5908 - loss: 0.0570 - val_accuracy: 0.6667 - val_loss: 0.0351\n",
      "Epoch 4/100\n",
      "\u001b[1m53/53\u001b[0m \u001b[32m━━━━━━━━━━━━━━━━━━━━\u001b[0m\u001b[37m\u001b[0m \u001b[1m0s\u001b[0m 8ms/step - accuracy: 0.6620 - loss: 0.0405 - val_accuracy: 0.6833 - val_loss: 0.0257\n",
      "Epoch 5/100\n",
      "\u001b[1m53/53\u001b[0m \u001b[32m━━━━━━━━━━━━━━━━━━━━\u001b[0m\u001b[37m\u001b[0m \u001b[1m0s\u001b[0m 8ms/step - accuracy: 0.7397 - loss: 0.0269 - val_accuracy: 0.6976 - val_loss: 0.0217\n",
      "Epoch 6/100\n",
      "\u001b[1m53/53\u001b[0m \u001b[32m━━━━━━━━━━━━━━━━━━━━\u001b[0m\u001b[37m\u001b[0m \u001b[1m0s\u001b[0m 8ms/step - accuracy: 0.7422 - loss: 0.0202 - val_accuracy: 0.7167 - val_loss: 0.0178\n",
      "Epoch 7/100\n",
      "\u001b[1m53/53\u001b[0m \u001b[32m━━━━━━━━━━━━━━━━━━━━\u001b[0m\u001b[37m\u001b[0m \u001b[1m0s\u001b[0m 7ms/step - accuracy: 0.7846 - loss: 0.0169 - val_accuracy: 0.7190 - val_loss: 0.0154\n",
      "Epoch 8/100\n",
      "\u001b[1m53/53\u001b[0m \u001b[32m━━━━━━━━━━━━━━━━━━━━\u001b[0m\u001b[37m\u001b[0m \u001b[1m0s\u001b[0m 7ms/step - accuracy: 0.7523 - loss: 0.0139 - val_accuracy: 0.7571 - val_loss: 0.0150\n",
      "Epoch 9/100\n",
      "\u001b[1m53/53\u001b[0m \u001b[32m━━━━━━━━━━━━━━━━━━━━\u001b[0m\u001b[37m\u001b[0m \u001b[1m0s\u001b[0m 8ms/step - accuracy: 0.7810 - loss: 0.0127 - val_accuracy: 0.7262 - val_loss: 0.0146\n",
      "Epoch 10/100\n",
      "\u001b[1m53/53\u001b[0m \u001b[32m━━━━━━━━━━━━━━━━━━━━\u001b[0m\u001b[37m\u001b[0m \u001b[1m0s\u001b[0m 8ms/step - accuracy: 0.8031 - loss: 0.0093 - val_accuracy: 0.7500 - val_loss: 0.0135\n",
      "Epoch 11/100\n",
      "\u001b[1m53/53\u001b[0m \u001b[32m━━━━━━━━━━━━━━━━━━━━\u001b[0m\u001b[37m\u001b[0m \u001b[1m0s\u001b[0m 8ms/step - accuracy: 0.8016 - loss: 0.0096 - val_accuracy: 0.7429 - val_loss: 0.0130\n",
      "Epoch 12/100\n",
      "\u001b[1m53/53\u001b[0m \u001b[32m━━━━━━━━━━━━━━━━━━━━\u001b[0m\u001b[37m\u001b[0m \u001b[1m0s\u001b[0m 7ms/step - accuracy: 0.7891 - loss: 0.0074 - val_accuracy: 0.7667 - val_loss: 0.0130\n",
      "Epoch 13/100\n",
      "\u001b[1m53/53\u001b[0m \u001b[32m━━━━━━━━━━━━━━━━━━━━\u001b[0m\u001b[37m\u001b[0m \u001b[1m0s\u001b[0m 7ms/step - accuracy: 0.8152 - loss: 0.0066 - val_accuracy: 0.7571 - val_loss: 0.0121\n",
      "Epoch 14/100\n",
      "\u001b[1m53/53\u001b[0m \u001b[32m━━━━━━━━━━━━━━━━━━━━\u001b[0m\u001b[37m\u001b[0m \u001b[1m0s\u001b[0m 8ms/step - accuracy: 0.8100 - loss: 0.0055 - val_accuracy: 0.7429 - val_loss: 0.0131\n",
      "Epoch 15/100\n",
      "\u001b[1m53/53\u001b[0m \u001b[32m━━━━━━━━━━━━━━━━━━━━\u001b[0m\u001b[37m\u001b[0m \u001b[1m0s\u001b[0m 7ms/step - accuracy: 0.8134 - loss: 0.0056 - val_accuracy: 0.8119 - val_loss: 0.0128\n",
      "Epoch 16/100\n",
      "\u001b[1m53/53\u001b[0m \u001b[32m━━━━━━━━━━━━━━━━━━━━\u001b[0m\u001b[37m\u001b[0m \u001b[1m0s\u001b[0m 8ms/step - accuracy: 0.8203 - loss: 0.0053 - val_accuracy: 0.7738 - val_loss: 0.0127\n",
      "Epoch 17/100\n",
      "\u001b[1m53/53\u001b[0m \u001b[32m━━━━━━━━━━━━━━━━━━━━\u001b[0m\u001b[37m\u001b[0m \u001b[1m0s\u001b[0m 7ms/step - accuracy: 0.8129 - loss: 0.0043 - val_accuracy: 0.7714 - val_loss: 0.0132\n",
      "Epoch 18/100\n",
      "\u001b[1m53/53\u001b[0m \u001b[32m━━━━━━━━━━━━━━━━━━━━\u001b[0m\u001b[37m\u001b[0m \u001b[1m0s\u001b[0m 7ms/step - accuracy: 0.8246 - loss: 0.0040 - val_accuracy: 0.7905 - val_loss: 0.0137\n",
      "Epoch 19/100\n",
      "\u001b[1m53/53\u001b[0m \u001b[32m━━━━━━━━━━━━━━━━━━━━\u001b[0m\u001b[37m\u001b[0m \u001b[1m0s\u001b[0m 8ms/step - accuracy: 0.8303 - loss: 0.0033 - val_accuracy: 0.8024 - val_loss: 0.0144\n",
      "Epoch 20/100\n",
      "\u001b[1m53/53\u001b[0m \u001b[32m━━━━━━━━━━━━━━━━━━━━\u001b[0m\u001b[37m\u001b[0m \u001b[1m0s\u001b[0m 8ms/step - accuracy: 0.8271 - loss: 0.0036 - val_accuracy: 0.7762 - val_loss: 0.0142\n",
      "Epoch 21/100\n",
      "\u001b[1m53/53\u001b[0m \u001b[32m━━━━━━━━━━━━━━━━━━━━\u001b[0m\u001b[37m\u001b[0m \u001b[1m0s\u001b[0m 8ms/step - accuracy: 0.8184 - loss: 0.0027 - val_accuracy: 0.7643 - val_loss: 0.0140\n",
      "Epoch 22/100\n",
      "\u001b[1m53/53\u001b[0m \u001b[32m━━━━━━━━━━━━━━━━━━━━\u001b[0m\u001b[37m\u001b[0m \u001b[1m0s\u001b[0m 8ms/step - accuracy: 0.8370 - loss: 0.0026 - val_accuracy: 0.7452 - val_loss: 0.0164\n",
      "Epoch 23/100\n",
      "\u001b[1m53/53\u001b[0m \u001b[32m━━━━━━━━━━━━━━━━━━━━\u001b[0m\u001b[37m\u001b[0m \u001b[1m0s\u001b[0m 8ms/step - accuracy: 0.8175 - loss: 0.0029 - val_accuracy: 0.7643 - val_loss: 0.0142\n",
      "\u001b[1m14/14\u001b[0m \u001b[32m━━━━━━━━━━━━━━━━━━━━\u001b[0m\u001b[37m\u001b[0m \u001b[1m0s\u001b[0m 6ms/step\n",
      "\n",
      "F1 Score (micro): 0.9293\n",
      "F1 Score (macro): 0.6977\n",
      "\n",
      "=== Classification Report ===\n",
      "                                      precision    recall  f1-score   support\n",
      "\n",
      "                             Allergy       1.00      1.00      1.00         1\n",
      "             Análisis cromatográfico       1.00      1.00      1.00         1\n",
      "        Biochemical Research Methods       1.00      0.67      0.80         3\n",
      "    Biochemistry & Molecular Biology       0.96      0.85      0.90        78\n",
      "                             Biology       1.00      0.50      0.67         2\n",
      "                          Biophysics       0.80      0.50      0.62         8\n",
      "Biotechnology & Applied Microbiology       1.00      1.00      1.00         5\n",
      "    Cardiac & Cardiovascular Systems       0.00      0.00      0.00         1\n",
      "           Cell & Tissue Engineering       0.00      0.00      0.00         1\n",
      "                        Cell Biology       0.97      0.95      0.96        39\n",
      "      Chemistry, Inorganic & Nuclear       1.00      0.50      0.67         2\n",
      "                Chemistry, Medicinal       0.90      0.86      0.88        21\n",
      "        Chemistry, Multidisciplinary       1.00      1.00      1.00        12\n",
      "                  Chemistry, Organic       1.00      1.00      1.00         5\n",
      "                  Clinical Neurology       1.00      1.00      1.00         8\n",
      "                         Dermatology       0.00      0.00      0.00         1\n",
      "          Endocrinology & Metabolism       1.00      0.80      0.89         5\n",
      "            Enfermedades infecciosas       0.33      1.00      0.50         1\n",
      "                        Farmacología       0.00      0.00      0.00         1\n",
      "       Gastroenterology & Hepatology       1.00      1.00      1.00         5\n",
      "                 Genetics & Heredity       0.95      0.95      0.95        39\n",
      "                          Hematology       0.67      1.00      0.80         2\n",
      "                          Immunology       0.98      1.00      0.99        60\n",
      "                 Infectious Diseases       1.00      0.92      0.96        12\n",
      "Integrative & Complementary Medicine       0.00      0.00      0.00         1\n",
      "                       Invertebrados       0.00      0.00      0.00         2\n",
      "        Medicine, General & Internal       1.00      1.00      1.00         4\n",
      "   Medicine, Research & Experimental       1.00      0.83      0.91         6\n",
      "                        Microbiology       1.00      0.90      0.95        20\n",
      "          Multidisciplinary Sciences       1.00      1.00      1.00        27\n",
      "                           Nemátodos       0.00      0.00      0.00         1\n",
      "                       Neurosciences       0.94      0.85      0.89        20\n",
      "             Obstetrics & Gynecology       1.00      1.00      1.00         2\n",
      "                            Oncology       1.00      0.89      0.94         9\n",
      "                        Parasitology       0.96      0.96      0.96        25\n",
      "                       Parasitología       0.00      0.00      0.00         5\n",
      "                Parasitología animal       0.60      0.67      0.63         9\n",
      "                           Pathology       1.00      1.00      1.00        12\n",
      "                           Patología       0.00      0.00      0.00         1\n",
      "         Peripheral Vascular Disease       0.00      0.00      0.00         1\n",
      "             Pharmacology & Pharmacy       1.00      1.00      1.00        25\n",
      "                          Physiology       0.67      1.00      0.80         2\n",
      "                         Plaguicidas       1.00      1.00      1.00         1\n",
      "                      Plant Sciences       1.00      0.33      0.50         3\n",
      "                           Protistas       0.00      0.00      0.00         1\n",
      "                Reproductive Biology       1.00      1.00      1.00         2\n",
      "                        Rheumatology       1.00      1.00      1.00        84\n",
      "                             Surgery       1.00      1.00      1.00         1\n",
      "                     Transplantation       1.00      1.00      1.00         1\n",
      "                   Tropical Medicine       0.88      0.78      0.82         9\n",
      "                 Veterinary Sciences       0.00      0.00      0.00         1\n",
      "                            Virology       1.00      1.00      1.00         3\n",
      "                             Zoology       1.00      1.00      1.00         1\n",
      "\n",
      "                           micro avg       0.96      0.90      0.93       592\n",
      "                           macro avg       0.73      0.69      0.70       592\n",
      "                        weighted avg       0.94      0.90      0.91       592\n",
      "                         samples avg       0.93      0.91      0.91       592\n",
      "\n",
      "Multilabel exact match accuracy: 0.8500\n"
     ]
    },
    {
     "name": "stderr",
     "output_type": "stream",
     "text": [
      "c:\\Users\\Pablo\\OneDrive\\Documentos\\Estudios\\DATCOM\\Trabajo Fin de Máster\\App\\venv\\Lib\\site-packages\\sklearn\\metrics\\_classification.py:1565: UndefinedMetricWarning: Precision is ill-defined and being set to 0.0 in labels with no predicted samples. Use `zero_division` parameter to control this behavior.\n",
      "  _warn_prf(average, modifier, f\"{metric.capitalize()} is\", len(result))\n",
      "c:\\Users\\Pablo\\OneDrive\\Documentos\\Estudios\\DATCOM\\Trabajo Fin de Máster\\App\\venv\\Lib\\site-packages\\sklearn\\metrics\\_classification.py:1565: UndefinedMetricWarning: Precision is ill-defined and being set to 0.0 in samples with no predicted labels. Use `zero_division` parameter to control this behavior.\n",
      "  _warn_prf(average, modifier, f\"{metric.capitalize()} is\", len(result))\n"
     ]
    }
   ],
   "source": [
    "import pandas as pd\n",
    "import numpy as np\n",
    "from sklearn.model_selection import train_test_split\n",
    "from sklearn.preprocessing import MultiLabelBinarizer\n",
    "import tensorflow as tf\n",
    "from tensorflow.keras.models import Sequential\n",
    "from tensorflow.keras.layers import Dense, Dropout, Input\n",
    "from tensorflow.keras.callbacks import EarlyStopping\n",
    "import joblib\n",
    "from sklearn.metrics import f1_score, classification_report\n",
    "from sklearn.metrics import accuracy_score\n",
    "\n",
    "# === 1. Cargar datos ===\n",
    "X = pd.read_csv(\"X_ready.csv\", index_col='gb_id')\n",
    "y = pd.read_csv(\"y_ready.csv\", index_col='gb_id')\n",
    "\n",
    "# === 2. Binarizar etiquetas ===\n",
    "mlb = MultiLabelBinarizer()\n",
    "y['label_list'] = y['label'].str.split(';')\n",
    "y_mlb = mlb.fit_transform(y['label_list'])\n",
    "\n",
    "# === 3. Guardar binarizador ===\n",
    "joblib.dump(mlb, \"models/label_binarizer.joblib\")\n",
    "\n",
    "# === 4. División\n",
    "X_train, X_val, y_train, y_val = train_test_split(\n",
    "    X, y_mlb, stratify=y['label'], test_size=0.2, random_state=42\n",
    ")\n",
    "\n",
    "# === 5. Modelo óptimo\n",
    "model = Sequential([\n",
    "    Input(shape=(X_train.shape[1],)),\n",
    "    Dense(1024, activation='relu'),\n",
    "    Dropout(0.4),\n",
    "    Dense(512, activation='relu'),\n",
    "    Dropout(0.4),\n",
    "    Dense(256, activation='relu'),\n",
    "    Dropout(0.4),\n",
    "    Dense(y_train.shape[1], activation='sigmoid')\n",
    "])\n",
    "\n",
    "model.compile(\n",
    "    loss='binary_crossentropy',\n",
    "    optimizer='adam',\n",
    "    metrics=['accuracy']\n",
    ")\n",
    "\n",
    "early_stop = EarlyStopping(monitor='val_loss', patience=10, restore_best_weights=True)\n",
    "\n",
    "model.fit(\n",
    "    X_train, y_train,\n",
    "    validation_data=(X_val, y_val),\n",
    "    epochs=100,\n",
    "    batch_size=32,\n",
    "    callbacks=[early_stop],\n",
    "    verbose=1\n",
    ")\n",
    "\n",
    "# === 6. Guardar modelo\n",
    "model.save(\"models/best_model_3x1024_dropout04.keras\")\n",
    "\n",
    "# === 7. Evaluación ===\n",
    "y_pred_proba = model.predict(X_val)\n",
    "y_pred = (y_pred_proba > 0.5).astype(int)\n",
    "\n",
    "f1_micro = f1_score(y_val, y_pred, average='micro')\n",
    "f1_macro = f1_score(y_val, y_pred, average='macro')\n",
    "print(f\"\\nF1 Score (micro): {f1_micro:.4f}\")\n",
    "print(f\"F1 Score (macro): {f1_macro:.4f}\")\n",
    "\n",
    "print(\"\\n=== Classification Report ===\")\n",
    "print(classification_report(y_val, y_pred, target_names=mlb.classes_))\n",
    "\n",
    "acc = accuracy_score(y_val, y_pred)\n",
    "print(f\"Multilabel exact match accuracy: {acc:.4f}\")"
   ]
  }
 ],
 "metadata": {
  "kernelspec": {
   "display_name": "venv",
   "language": "python",
   "name": "python3"
  },
  "language_info": {
   "codemirror_mode": {
    "name": "ipython",
    "version": 3
   },
   "file_extension": ".py",
   "mimetype": "text/x-python",
   "name": "python",
   "nbconvert_exporter": "python",
   "pygments_lexer": "ipython3",
   "version": "3.12.8"
  }
 },
 "nbformat": 4,
 "nbformat_minor": 2
}
