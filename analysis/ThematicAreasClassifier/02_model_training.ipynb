{
 "cells": [
  {
   "cell_type": "code",
   "execution_count": 11,
   "metadata": {},
   "outputs": [
    {
     "name": "stdout",
     "output_type": "stream",
     "text": [
      "\n",
      "📊 Entrenando con experiments\\X_2000_1000\n"
     ]
    },
    {
     "name": "stderr",
     "output_type": "stream",
     "text": [
      "c:\\Users\\Pablo\\OneDrive\\Documentos\\Estudios\\DATCOM\\Trabajo Fin de Máster\\App\\venv\\Lib\\site-packages\\keras\\src\\layers\\core\\dense.py:93: UserWarning: Do not pass an `input_shape`/`input_dim` argument to a layer. When using Sequential models, prefer using an `Input(shape)` object as the first layer in the model instead.\n",
      "  super().__init__(activity_regularizer=activity_regularizer, **kwargs)\n"
     ]
    },
    {
     "name": "stdout",
     "output_type": "stream",
     "text": [
      "\u001b[1m13/13\u001b[0m \u001b[32m━━━━━━━━━━━━━━━━━━━━\u001b[0m\u001b[37m\u001b[0m \u001b[1m0s\u001b[0m 4ms/step \n",
      "\n",
      "📊 Entrenando con experiments\\X_2000_500\n"
     ]
    },
    {
     "name": "stderr",
     "output_type": "stream",
     "text": [
      "c:\\Users\\Pablo\\OneDrive\\Documentos\\Estudios\\DATCOM\\Trabajo Fin de Máster\\App\\venv\\Lib\\site-packages\\keras\\src\\layers\\core\\dense.py:93: UserWarning: Do not pass an `input_shape`/`input_dim` argument to a layer. When using Sequential models, prefer using an `Input(shape)` object as the first layer in the model instead.\n",
      "  super().__init__(activity_regularizer=activity_regularizer, **kwargs)\n"
     ]
    },
    {
     "name": "stdout",
     "output_type": "stream",
     "text": [
      "\u001b[1m13/13\u001b[0m \u001b[32m━━━━━━━━━━━━━━━━━━━━\u001b[0m\u001b[37m\u001b[0m \u001b[1m0s\u001b[0m 4ms/step \n",
      "\n",
      "📊 Entrenando con experiments\\X_2000_750\n"
     ]
    },
    {
     "name": "stderr",
     "output_type": "stream",
     "text": [
      "c:\\Users\\Pablo\\OneDrive\\Documentos\\Estudios\\DATCOM\\Trabajo Fin de Máster\\App\\venv\\Lib\\site-packages\\keras\\src\\layers\\core\\dense.py:93: UserWarning: Do not pass an `input_shape`/`input_dim` argument to a layer. When using Sequential models, prefer using an `Input(shape)` object as the first layer in the model instead.\n",
      "  super().__init__(activity_regularizer=activity_regularizer, **kwargs)\n"
     ]
    },
    {
     "name": "stdout",
     "output_type": "stream",
     "text": [
      "\u001b[1m13/13\u001b[0m \u001b[32m━━━━━━━━━━━━━━━━━━━━\u001b[0m\u001b[37m\u001b[0m \u001b[1m0s\u001b[0m 4ms/step \n",
      "\n",
      "📊 Entrenando con experiments\\X_2000_850\n"
     ]
    },
    {
     "name": "stderr",
     "output_type": "stream",
     "text": [
      "c:\\Users\\Pablo\\OneDrive\\Documentos\\Estudios\\DATCOM\\Trabajo Fin de Máster\\App\\venv\\Lib\\site-packages\\keras\\src\\layers\\core\\dense.py:93: UserWarning: Do not pass an `input_shape`/`input_dim` argument to a layer. When using Sequential models, prefer using an `Input(shape)` object as the first layer in the model instead.\n",
      "  super().__init__(activity_regularizer=activity_regularizer, **kwargs)\n"
     ]
    },
    {
     "name": "stdout",
     "output_type": "stream",
     "text": [
      "\u001b[1m13/13\u001b[0m \u001b[32m━━━━━━━━━━━━━━━━━━━━\u001b[0m\u001b[37m\u001b[0m \u001b[1m0s\u001b[0m 4ms/step \n",
      "\n",
      "📊 Entrenando con experiments\\X_3000_1000\n"
     ]
    },
    {
     "name": "stderr",
     "output_type": "stream",
     "text": [
      "c:\\Users\\Pablo\\OneDrive\\Documentos\\Estudios\\DATCOM\\Trabajo Fin de Máster\\App\\venv\\Lib\\site-packages\\keras\\src\\layers\\core\\dense.py:93: UserWarning: Do not pass an `input_shape`/`input_dim` argument to a layer. When using Sequential models, prefer using an `Input(shape)` object as the first layer in the model instead.\n",
      "  super().__init__(activity_regularizer=activity_regularizer, **kwargs)\n"
     ]
    },
    {
     "name": "stdout",
     "output_type": "stream",
     "text": [
      "\u001b[1m13/13\u001b[0m \u001b[32m━━━━━━━━━━━━━━━━━━━━\u001b[0m\u001b[37m\u001b[0m \u001b[1m0s\u001b[0m 7ms/step\n",
      "\n",
      "📊 Entrenando con experiments\\X_3000_500\n"
     ]
    },
    {
     "name": "stderr",
     "output_type": "stream",
     "text": [
      "c:\\Users\\Pablo\\OneDrive\\Documentos\\Estudios\\DATCOM\\Trabajo Fin de Máster\\App\\venv\\Lib\\site-packages\\keras\\src\\layers\\core\\dense.py:93: UserWarning: Do not pass an `input_shape`/`input_dim` argument to a layer. When using Sequential models, prefer using an `Input(shape)` object as the first layer in the model instead.\n",
      "  super().__init__(activity_regularizer=activity_regularizer, **kwargs)\n"
     ]
    },
    {
     "name": "stdout",
     "output_type": "stream",
     "text": [
      "\u001b[1m13/13\u001b[0m \u001b[32m━━━━━━━━━━━━━━━━━━━━\u001b[0m\u001b[37m\u001b[0m \u001b[1m0s\u001b[0m 4ms/step \n",
      "\n",
      "📊 Entrenando con experiments\\X_3000_750\n"
     ]
    },
    {
     "name": "stderr",
     "output_type": "stream",
     "text": [
      "c:\\Users\\Pablo\\OneDrive\\Documentos\\Estudios\\DATCOM\\Trabajo Fin de Máster\\App\\venv\\Lib\\site-packages\\keras\\src\\layers\\core\\dense.py:93: UserWarning: Do not pass an `input_shape`/`input_dim` argument to a layer. When using Sequential models, prefer using an `Input(shape)` object as the first layer in the model instead.\n",
      "  super().__init__(activity_regularizer=activity_regularizer, **kwargs)\n"
     ]
    },
    {
     "name": "stdout",
     "output_type": "stream",
     "text": [
      "\u001b[1m13/13\u001b[0m \u001b[32m━━━━━━━━━━━━━━━━━━━━\u001b[0m\u001b[37m\u001b[0m \u001b[1m0s\u001b[0m 4ms/step \n",
      "\n",
      "📊 Entrenando con experiments\\X_3000_850\n"
     ]
    },
    {
     "name": "stderr",
     "output_type": "stream",
     "text": [
      "c:\\Users\\Pablo\\OneDrive\\Documentos\\Estudios\\DATCOM\\Trabajo Fin de Máster\\App\\venv\\Lib\\site-packages\\keras\\src\\layers\\core\\dense.py:93: UserWarning: Do not pass an `input_shape`/`input_dim` argument to a layer. When using Sequential models, prefer using an `Input(shape)` object as the first layer in the model instead.\n",
      "  super().__init__(activity_regularizer=activity_regularizer, **kwargs)\n"
     ]
    },
    {
     "name": "stdout",
     "output_type": "stream",
     "text": [
      "\u001b[1m13/13\u001b[0m \u001b[32m━━━━━━━━━━━━━━━━━━━━\u001b[0m\u001b[37m\u001b[0m \u001b[1m0s\u001b[0m 5ms/step \n",
      "\n",
      "📊 Entrenando con experiments\\X_5000_1000\n"
     ]
    },
    {
     "name": "stderr",
     "output_type": "stream",
     "text": [
      "c:\\Users\\Pablo\\OneDrive\\Documentos\\Estudios\\DATCOM\\Trabajo Fin de Máster\\App\\venv\\Lib\\site-packages\\keras\\src\\layers\\core\\dense.py:93: UserWarning: Do not pass an `input_shape`/`input_dim` argument to a layer. When using Sequential models, prefer using an `Input(shape)` object as the first layer in the model instead.\n",
      "  super().__init__(activity_regularizer=activity_regularizer, **kwargs)\n"
     ]
    },
    {
     "name": "stdout",
     "output_type": "stream",
     "text": [
      "\u001b[1m13/13\u001b[0m \u001b[32m━━━━━━━━━━━━━━━━━━━━\u001b[0m\u001b[37m\u001b[0m \u001b[1m0s\u001b[0m 4ms/step \n",
      "\n",
      "📊 Entrenando con experiments\\X_5000_500\n"
     ]
    },
    {
     "name": "stderr",
     "output_type": "stream",
     "text": [
      "c:\\Users\\Pablo\\OneDrive\\Documentos\\Estudios\\DATCOM\\Trabajo Fin de Máster\\App\\venv\\Lib\\site-packages\\keras\\src\\layers\\core\\dense.py:93: UserWarning: Do not pass an `input_shape`/`input_dim` argument to a layer. When using Sequential models, prefer using an `Input(shape)` object as the first layer in the model instead.\n",
      "  super().__init__(activity_regularizer=activity_regularizer, **kwargs)\n"
     ]
    },
    {
     "name": "stdout",
     "output_type": "stream",
     "text": [
      "\u001b[1m13/13\u001b[0m \u001b[32m━━━━━━━━━━━━━━━━━━━━\u001b[0m\u001b[37m\u001b[0m \u001b[1m0s\u001b[0m 4ms/step \n",
      "\n",
      "📊 Entrenando con experiments\\X_5000_750\n"
     ]
    },
    {
     "name": "stderr",
     "output_type": "stream",
     "text": [
      "c:\\Users\\Pablo\\OneDrive\\Documentos\\Estudios\\DATCOM\\Trabajo Fin de Máster\\App\\venv\\Lib\\site-packages\\keras\\src\\layers\\core\\dense.py:93: UserWarning: Do not pass an `input_shape`/`input_dim` argument to a layer. When using Sequential models, prefer using an `Input(shape)` object as the first layer in the model instead.\n",
      "  super().__init__(activity_regularizer=activity_regularizer, **kwargs)\n"
     ]
    },
    {
     "name": "stdout",
     "output_type": "stream",
     "text": [
      "\u001b[1m13/13\u001b[0m \u001b[32m━━━━━━━━━━━━━━━━━━━━\u001b[0m\u001b[37m\u001b[0m \u001b[1m0s\u001b[0m 4ms/step \n",
      "\n",
      "📊 Entrenando con experiments\\X_5000_850\n"
     ]
    },
    {
     "name": "stderr",
     "output_type": "stream",
     "text": [
      "c:\\Users\\Pablo\\OneDrive\\Documentos\\Estudios\\DATCOM\\Trabajo Fin de Máster\\App\\venv\\Lib\\site-packages\\keras\\src\\layers\\core\\dense.py:93: UserWarning: Do not pass an `input_shape`/`input_dim` argument to a layer. When using Sequential models, prefer using an `Input(shape)` object as the first layer in the model instead.\n",
      "  super().__init__(activity_regularizer=activity_regularizer, **kwargs)\n"
     ]
    },
    {
     "name": "stdout",
     "output_type": "stream",
     "text": [
      "\u001b[1m13/13\u001b[0m \u001b[32m━━━━━━━━━━━━━━━━━━━━\u001b[0m\u001b[37m\u001b[0m \u001b[1m0s\u001b[0m 4ms/step \n",
      "\n",
      "🏆 Resultados ordenados por F1 micro:\n",
      "                     folder  f1_micro  f1_macro\n",
      "6    experiments\\X_3000_750  0.871377  0.584757\n",
      "9    experiments\\X_5000_500  0.866242  0.529935\n",
      "1    experiments\\X_2000_500  0.863101  0.556731\n",
      "5    experiments\\X_3000_500  0.861789  0.558408\n",
      "10   experiments\\X_5000_750  0.860274  0.515525\n",
      "8   experiments\\X_5000_1000  0.860037  0.492964\n",
      "2    experiments\\X_2000_750  0.856359  0.479843\n",
      "7    experiments\\X_3000_850  0.855300  0.486736\n",
      "11   experiments\\X_5000_850  0.854779  0.459321\n",
      "3    experiments\\X_2000_850  0.850450  0.470437\n",
      "4   experiments\\X_3000_1000  0.846580  0.502681\n",
      "0   experiments\\X_2000_1000  0.843985  0.429193\n"
     ]
    }
   ],
   "source": [
    "import os\n",
    "from sklearn.model_selection import train_test_split\n",
    "from sklearn.preprocessing import MultiLabelBinarizer\n",
    "from sklearn.metrics import f1_score\n",
    "import pandas as pd\n",
    "import numpy as np\n",
    "import tensorflow as tf\n",
    "from tensorflow.keras.models import Sequential\n",
    "from tensorflow.keras.layers import Dense, Dropout\n",
    "from tensorflow.keras.callbacks import EarlyStopping\n",
    "\n",
    "# === Directorios de experimentos ===\n",
    "folders = [f.path for f in os.scandir(\"experiments\") if f.is_dir()]\n",
    "\n",
    "results = []\n",
    "\n",
    "for folder in folders:\n",
    "    print(f\"\\n📊 Entrenando con {folder}\")\n",
    "\n",
    "    X = pd.read_csv(f\"{folder}/X_ready.csv\", index_col=0)\n",
    "    y = pd.read_csv(f\"{folder}/y_ready.csv\", index_col=0)\n",
    "    y['label_list'] = y['label'].str.split(';')\n",
    "    \n",
    "    mlb = MultiLabelBinarizer()\n",
    "    y_mlb = mlb.fit_transform(y['label_list'])\n",
    "\n",
    "    X_train, X_val, y_train, y_val = train_test_split(\n",
    "        X, y_mlb, test_size=0.2, stratify=y['label'], random_state=42\n",
    "    )\n",
    "\n",
    "    model = Sequential([\n",
    "        Dense(512, activation='relu', input_shape=(X_train.shape[1],)),\n",
    "        Dropout(0.3),\n",
    "        Dense(256, activation='relu'),\n",
    "        Dropout(0.3),\n",
    "        Dense(y_train.shape[1], activation='sigmoid')\n",
    "    ])\n",
    "\n",
    "    model.compile(\n",
    "        loss='binary_crossentropy',\n",
    "        optimizer='adam',\n",
    "        metrics=['accuracy']\n",
    "    )\n",
    "\n",
    "    es = EarlyStopping(monitor='val_loss', patience=5, restore_best_weights=True)\n",
    "\n",
    "    model.fit(X_train, y_train, validation_data=(X_val, y_val),\n",
    "              epochs=100, batch_size=32, callbacks=[es], verbose=0)\n",
    "\n",
    "    y_pred = (model.predict(X_val) > 0.5).astype(int)\n",
    "    f1_micro = f1_score(y_val, y_pred, average='micro')\n",
    "    f1_macro = f1_score(y_val, y_pred, average='macro')\n",
    "\n",
    "    results.append({\n",
    "        'folder': folder,\n",
    "        'f1_micro': f1_micro,\n",
    "        'f1_macro': f1_macro\n",
    "    })\n",
    "\n",
    "# === Mostrar ranking de resultados ===\n",
    "df_results = pd.DataFrame(results)\n",
    "df_results = df_results.sort_values('f1_micro', ascending=False)\n",
    "print(\"\\n🏆 Resultados ordenados por F1 micro:\")\n",
    "print(df_results)\n"
   ]
  },
  {
   "cell_type": "code",
   "execution_count": 12,
   "metadata": {},
   "outputs": [
    {
     "name": "stdout",
     "output_type": "stream",
     "text": [
      "Entrenando con {'units1': 512, 'units2': 256, 'dropout': 0.3}\n"
     ]
    },
    {
     "name": "stderr",
     "output_type": "stream",
     "text": [
      "c:\\Users\\Pablo\\OneDrive\\Documentos\\Estudios\\DATCOM\\Trabajo Fin de Máster\\App\\venv\\Lib\\site-packages\\keras\\src\\layers\\core\\dense.py:93: UserWarning: Do not pass an `input_shape`/`input_dim` argument to a layer. When using Sequential models, prefer using an `Input(shape)` object as the first layer in the model instead.\n",
      "  super().__init__(activity_regularizer=activity_regularizer, **kwargs)\n"
     ]
    },
    {
     "name": "stdout",
     "output_type": "stream",
     "text": [
      "\u001b[1m13/13\u001b[0m \u001b[32m━━━━━━━━━━━━━━━━━━━━\u001b[0m\u001b[37m\u001b[0m \u001b[1m0s\u001b[0m 4ms/step \n",
      "Entrenando con {'units1': 512, 'units2': 128, 'dropout': 0.3}\n"
     ]
    },
    {
     "name": "stderr",
     "output_type": "stream",
     "text": [
      "c:\\Users\\Pablo\\OneDrive\\Documentos\\Estudios\\DATCOM\\Trabajo Fin de Máster\\App\\venv\\Lib\\site-packages\\keras\\src\\layers\\core\\dense.py:93: UserWarning: Do not pass an `input_shape`/`input_dim` argument to a layer. When using Sequential models, prefer using an `Input(shape)` object as the first layer in the model instead.\n",
      "  super().__init__(activity_regularizer=activity_regularizer, **kwargs)\n"
     ]
    },
    {
     "name": "stdout",
     "output_type": "stream",
     "text": [
      "\u001b[1m13/13\u001b[0m \u001b[32m━━━━━━━━━━━━━━━━━━━━\u001b[0m\u001b[37m\u001b[0m \u001b[1m0s\u001b[0m 5ms/step \n",
      "Entrenando con {'units1': 256, 'units2': 128, 'dropout': 0.3}\n"
     ]
    },
    {
     "name": "stderr",
     "output_type": "stream",
     "text": [
      "c:\\Users\\Pablo\\OneDrive\\Documentos\\Estudios\\DATCOM\\Trabajo Fin de Máster\\App\\venv\\Lib\\site-packages\\keras\\src\\layers\\core\\dense.py:93: UserWarning: Do not pass an `input_shape`/`input_dim` argument to a layer. When using Sequential models, prefer using an `Input(shape)` object as the first layer in the model instead.\n",
      "  super().__init__(activity_regularizer=activity_regularizer, **kwargs)\n"
     ]
    },
    {
     "name": "stdout",
     "output_type": "stream",
     "text": [
      "\u001b[1m13/13\u001b[0m \u001b[32m━━━━━━━━━━━━━━━━━━━━\u001b[0m\u001b[37m\u001b[0m \u001b[1m0s\u001b[0m 3ms/step \n",
      "Entrenando con {'units1': 512, 'units2': 256, 'dropout': 0.5}\n"
     ]
    },
    {
     "name": "stderr",
     "output_type": "stream",
     "text": [
      "c:\\Users\\Pablo\\OneDrive\\Documentos\\Estudios\\DATCOM\\Trabajo Fin de Máster\\App\\venv\\Lib\\site-packages\\keras\\src\\layers\\core\\dense.py:93: UserWarning: Do not pass an `input_shape`/`input_dim` argument to a layer. When using Sequential models, prefer using an `Input(shape)` object as the first layer in the model instead.\n",
      "  super().__init__(activity_regularizer=activity_regularizer, **kwargs)\n"
     ]
    },
    {
     "name": "stdout",
     "output_type": "stream",
     "text": [
      "\u001b[1m13/13\u001b[0m \u001b[32m━━━━━━━━━━━━━━━━━━━━\u001b[0m\u001b[37m\u001b[0m \u001b[1m0s\u001b[0m 4ms/step \n",
      "Entrenando con {'units1': 512, 'units2': 256, 'dropout': 0.2}\n"
     ]
    },
    {
     "name": "stderr",
     "output_type": "stream",
     "text": [
      "c:\\Users\\Pablo\\OneDrive\\Documentos\\Estudios\\DATCOM\\Trabajo Fin de Máster\\App\\venv\\Lib\\site-packages\\keras\\src\\layers\\core\\dense.py:93: UserWarning: Do not pass an `input_shape`/`input_dim` argument to a layer. When using Sequential models, prefer using an `Input(shape)` object as the first layer in the model instead.\n",
      "  super().__init__(activity_regularizer=activity_regularizer, **kwargs)\n"
     ]
    },
    {
     "name": "stdout",
     "output_type": "stream",
     "text": [
      "\u001b[1m13/13\u001b[0m \u001b[32m━━━━━━━━━━━━━━━━━━━━\u001b[0m\u001b[37m\u001b[0m \u001b[1m0s\u001b[0m 4ms/step \n",
      "   units1  units2  dropout  f1_micro  f1_macro\n",
      "3     512     256      0.5  0.920245  0.755000\n",
      "1     512     128      0.3  0.908438  0.613720\n",
      "2     256     128      0.3  0.907623  0.663028\n",
      "4     512     256      0.2  0.905188  0.650617\n",
      "0     512     256      0.3  0.900885  0.653890\n"
     ]
    }
   ],
   "source": [
    "import pandas as pd\n",
    "import numpy as np\n",
    "from sklearn.model_selection import train_test_split\n",
    "from sklearn.preprocessing import MultiLabelBinarizer\n",
    "from sklearn.metrics import f1_score\n",
    "import tensorflow as tf\n",
    "from tensorflow.keras.models import Sequential\n",
    "from tensorflow.keras.layers import Dense, Dropout\n",
    "from tensorflow.keras.callbacks import EarlyStopping\n",
    "\n",
    "# === Cargar datos ===\n",
    "X = pd.read_csv(\"X_ready.csv\", index_col='gb_id')\n",
    "y = pd.read_csv(\"y_ready.csv\", index_col='gb_id')\n",
    "\n",
    "# === Binarizar etiquetas ===\n",
    "mlb = MultiLabelBinarizer()\n",
    "y['label_list'] = y['label'].str.split(';')\n",
    "y_mlb = mlb.fit_transform(y['label_list'])\n",
    "\n",
    "# === Dividir datos ===\n",
    "X_train, X_val, y_train, y_val = train_test_split(\n",
    "    X, y_mlb, stratify=y['label'], test_size=0.2, random_state=42\n",
    ")\n",
    "\n",
    "# === Definir combinaciones de hiperparámetros ===\n",
    "configs = [\n",
    "    {\"units1\": 512, \"units2\": 256, \"dropout\": 0.3},\n",
    "    {\"units1\": 512, \"units2\": 128, \"dropout\": 0.3},\n",
    "    {\"units1\": 256, \"units2\": 128, \"dropout\": 0.3},\n",
    "    {\"units1\": 512, \"units2\": 256, \"dropout\": 0.5},\n",
    "    {\"units1\": 512, \"units2\": 256, \"dropout\": 0.2},\n",
    "]\n",
    "\n",
    "# === Entrenar y evaluar ===\n",
    "results = []\n",
    "\n",
    "for cfg in configs:\n",
    "    tf.keras.backend.clear_session()\n",
    "    print(f\"Entrenando con {cfg}\")\n",
    "\n",
    "    model = Sequential([\n",
    "        Dense(cfg[\"units1\"], activation='relu', input_shape=(X_train.shape[1],)),\n",
    "        Dropout(cfg[\"dropout\"]),\n",
    "        Dense(cfg[\"units2\"], activation='relu'),\n",
    "        Dropout(cfg[\"dropout\"]),\n",
    "        Dense(y_train.shape[1], activation='sigmoid')\n",
    "    ])\n",
    "\n",
    "    model.compile(\n",
    "        loss='binary_crossentropy',\n",
    "        optimizer='adam',\n",
    "        metrics=['accuracy']\n",
    "    )\n",
    "\n",
    "    early_stop = EarlyStopping(monitor='val_loss', patience=5, restore_best_weights=True)\n",
    "\n",
    "    model.fit(\n",
    "        X_train, y_train,\n",
    "        validation_data=(X_val, y_val),\n",
    "        epochs=100,\n",
    "        batch_size=32,\n",
    "        callbacks=[early_stop],\n",
    "        verbose=0\n",
    "    )\n",
    "\n",
    "    y_pred = (model.predict(X_val) > 0.5).astype(int)\n",
    "    f1_micro = f1_score(y_val, y_pred, average='micro')\n",
    "    f1_macro = f1_score(y_val, y_pred, average='macro')\n",
    "\n",
    "    results.append({\n",
    "        \"units1\": cfg[\"units1\"],\n",
    "        \"units2\": cfg[\"units2\"],\n",
    "        \"dropout\": cfg[\"dropout\"],\n",
    "        \"f1_micro\": f1_micro,\n",
    "        \"f1_macro\": f1_macro\n",
    "    })\n",
    "\n",
    "# === Mostrar resultados ===\n",
    "results_df = pd.DataFrame(results)\n",
    "print(results_df.sort_values(\"f1_micro\", ascending=False))\n"
   ]
  },
  {
   "cell_type": "code",
   "execution_count": 13,
   "metadata": {},
   "outputs": [
    {
     "name": "stdout",
     "output_type": "stream",
     "text": [
      "\u001b[1m13/13\u001b[0m \u001b[32m━━━━━━━━━━━━━━━━━━━━\u001b[0m\u001b[37m\u001b[0m \u001b[1m0s\u001b[0m 3ms/step \n",
      "✅ Layers: 2, Units: 128, Dropout: 0.2 → F1_micro: 0.9028, F1_macro: 0.5849\n",
      "\u001b[1m13/13\u001b[0m \u001b[32m━━━━━━━━━━━━━━━━━━━━\u001b[0m\u001b[37m\u001b[0m \u001b[1m0s\u001b[0m 3ms/step \n",
      "✅ Layers: 2, Units: 128, Dropout: 0.3 → F1_micro: 0.9150, F1_macro: 0.6692\n",
      "\u001b[1m13/13\u001b[0m \u001b[32m━━━━━━━━━━━━━━━━━━━━\u001b[0m\u001b[37m\u001b[0m \u001b[1m0s\u001b[0m 3ms/step \n",
      "✅ Layers: 2, Units: 128, Dropout: 0.4 → F1_micro: 0.9137, F1_macro: 0.6644\n",
      "\u001b[1m13/13\u001b[0m \u001b[32m━━━━━━━━━━━━━━━━━━━━\u001b[0m\u001b[37m\u001b[0m \u001b[1m0s\u001b[0m 3ms/step \n",
      "✅ Layers: 2, Units: 128, Dropout: 0.5 → F1_micro: 0.9004, F1_macro: 0.5595\n",
      "\u001b[1m13/13\u001b[0m \u001b[32m━━━━━━━━━━━━━━━━━━━━\u001b[0m\u001b[37m\u001b[0m \u001b[1m0s\u001b[0m 3ms/step \n",
      "✅ Layers: 2, Units: 256, Dropout: 0.2 → F1_micro: 0.9065, F1_macro: 0.6627\n",
      "\u001b[1m13/13\u001b[0m \u001b[32m━━━━━━━━━━━━━━━━━━━━\u001b[0m\u001b[37m\u001b[0m \u001b[1m0s\u001b[0m 4ms/step \n",
      "✅ Layers: 2, Units: 256, Dropout: 0.3 → F1_micro: 0.9083, F1_macro: 0.6545\n",
      "\u001b[1m13/13\u001b[0m \u001b[32m━━━━━━━━━━━━━━━━━━━━\u001b[0m\u001b[37m\u001b[0m \u001b[1m0s\u001b[0m 3ms/step \n",
      "✅ Layers: 2, Units: 256, Dropout: 0.4 → F1_micro: 0.9159, F1_macro: 0.7339\n",
      "\u001b[1m13/13\u001b[0m \u001b[32m━━━━━━━━━━━━━━━━━━━━\u001b[0m\u001b[37m\u001b[0m \u001b[1m0s\u001b[0m 3ms/step \n",
      "✅ Layers: 2, Units: 256, Dropout: 0.5 → F1_micro: 0.9174, F1_macro: 0.6995\n",
      "\u001b[1m13/13\u001b[0m \u001b[32m━━━━━━━━━━━━━━━━━━━━\u001b[0m\u001b[37m\u001b[0m \u001b[1m0s\u001b[0m 3ms/step \n",
      "✅ Layers: 2, Units: 512, Dropout: 0.2 → F1_micro: 0.9089, F1_macro: 0.6900\n",
      "\u001b[1m13/13\u001b[0m \u001b[32m━━━━━━━━━━━━━━━━━━━━\u001b[0m\u001b[37m\u001b[0m \u001b[1m0s\u001b[0m 4ms/step \n",
      "✅ Layers: 2, Units: 512, Dropout: 0.3 → F1_micro: 0.9131, F1_macro: 0.6951\n",
      "\u001b[1m13/13\u001b[0m \u001b[32m━━━━━━━━━━━━━━━━━━━━\u001b[0m\u001b[37m\u001b[0m \u001b[1m0s\u001b[0m 3ms/step \n",
      "✅ Layers: 2, Units: 512, Dropout: 0.4 → F1_micro: 0.9170, F1_macro: 0.7267\n",
      "\u001b[1m13/13\u001b[0m \u001b[32m━━━━━━━━━━━━━━━━━━━━\u001b[0m\u001b[37m\u001b[0m \u001b[1m0s\u001b[0m 3ms/step \n",
      "✅ Layers: 2, Units: 512, Dropout: 0.5 → F1_micro: 0.9171, F1_macro: 0.6661\n",
      "\u001b[1m13/13\u001b[0m \u001b[32m━━━━━━━━━━━━━━━━━━━━\u001b[0m\u001b[37m\u001b[0m \u001b[1m0s\u001b[0m 5ms/step \n",
      "✅ Layers: 2, Units: 1024, Dropout: 0.2 → F1_micro: 0.9078, F1_macro: 0.7022\n",
      "\u001b[1m13/13\u001b[0m \u001b[32m━━━━━━━━━━━━━━━━━━━━\u001b[0m\u001b[37m\u001b[0m \u001b[1m0s\u001b[0m 5ms/step \n",
      "✅ Layers: 2, Units: 1024, Dropout: 0.3 → F1_micro: 0.9139, F1_macro: 0.6825\n",
      "\u001b[1m13/13\u001b[0m \u001b[32m━━━━━━━━━━━━━━━━━━━━\u001b[0m\u001b[37m\u001b[0m \u001b[1m0s\u001b[0m 5ms/step \n",
      "✅ Layers: 2, Units: 1024, Dropout: 0.4 → F1_micro: 0.9120, F1_macro: 0.7150\n",
      "\u001b[1m13/13\u001b[0m \u001b[32m━━━━━━━━━━━━━━━━━━━━\u001b[0m\u001b[37m\u001b[0m \u001b[1m0s\u001b[0m 5ms/step \n",
      "✅ Layers: 2, Units: 1024, Dropout: 0.5 → F1_micro: 0.9204, F1_macro: 0.7416\n",
      "\u001b[1m13/13\u001b[0m \u001b[32m━━━━━━━━━━━━━━━━━━━━\u001b[0m\u001b[37m\u001b[0m \u001b[1m0s\u001b[0m 4ms/step \n",
      "✅ Layers: 3, Units: 128, Dropout: 0.2 → F1_micro: 0.8994, F1_macro: 0.5967\n",
      "\u001b[1m13/13\u001b[0m \u001b[32m━━━━━━━━━━━━━━━━━━━━\u001b[0m\u001b[37m\u001b[0m \u001b[1m0s\u001b[0m 3ms/step \n",
      "✅ Layers: 3, Units: 128, Dropout: 0.3 → F1_micro: 0.8911, F1_macro: 0.5263\n",
      "\u001b[1m13/13\u001b[0m \u001b[32m━━━━━━━━━━━━━━━━━━━━\u001b[0m\u001b[37m\u001b[0m \u001b[1m0s\u001b[0m 3ms/step \n",
      "✅ Layers: 3, Units: 128, Dropout: 0.4 → F1_micro: 0.8670, F1_macro: 0.3747\n",
      "\u001b[1m13/13\u001b[0m \u001b[32m━━━━━━━━━━━━━━━━━━━━\u001b[0m\u001b[37m\u001b[0m \u001b[1m0s\u001b[0m 4ms/step \n",
      "✅ Layers: 3, Units: 128, Dropout: 0.5 → F1_micro: 0.8087, F1_macro: 0.2347\n",
      "\u001b[1m13/13\u001b[0m \u001b[32m━━━━━━━━━━━━━━━━━━━━\u001b[0m\u001b[37m\u001b[0m \u001b[1m0s\u001b[0m 4ms/step \n",
      "✅ Layers: 3, Units: 256, Dropout: 0.2 → F1_micro: 0.9080, F1_macro: 0.6288\n",
      "\u001b[1m13/13\u001b[0m \u001b[32m━━━━━━━━━━━━━━━━━━━━\u001b[0m\u001b[37m\u001b[0m \u001b[1m0s\u001b[0m 4ms/step \n",
      "✅ Layers: 3, Units: 256, Dropout: 0.3 → F1_micro: 0.8983, F1_macro: 0.5764\n",
      "\u001b[1m13/13\u001b[0m \u001b[32m━━━━━━━━━━━━━━━━━━━━\u001b[0m\u001b[37m\u001b[0m \u001b[1m0s\u001b[0m 4ms/step \n",
      "✅ Layers: 3, Units: 256, Dropout: 0.4 → F1_micro: 0.9175, F1_macro: 0.6647\n",
      "\u001b[1m13/13\u001b[0m \u001b[32m━━━━━━━━━━━━━━━━━━━━\u001b[0m\u001b[37m\u001b[0m \u001b[1m0s\u001b[0m 4ms/step \n",
      "✅ Layers: 3, Units: 256, Dropout: 0.5 → F1_micro: 0.9089, F1_macro: 0.5863\n",
      "\u001b[1m13/13\u001b[0m \u001b[32m━━━━━━━━━━━━━━━━━━━━\u001b[0m\u001b[37m\u001b[0m \u001b[1m0s\u001b[0m 5ms/step \n",
      "✅ Layers: 3, Units: 512, Dropout: 0.2 → F1_micro: 0.9055, F1_macro: 0.6047\n",
      "\u001b[1m13/13\u001b[0m \u001b[32m━━━━━━━━━━━━━━━━━━━━\u001b[0m\u001b[37m\u001b[0m \u001b[1m0s\u001b[0m 5ms/step\n",
      "✅ Layers: 3, Units: 512, Dropout: 0.3 → F1_micro: 0.9240, F1_macro: 0.7290\n",
      "\u001b[1m13/13\u001b[0m \u001b[32m━━━━━━━━━━━━━━━━━━━━\u001b[0m\u001b[37m\u001b[0m \u001b[1m0s\u001b[0m 4ms/step \n",
      "✅ Layers: 3, Units: 512, Dropout: 0.4 → F1_micro: 0.9236, F1_macro: 0.7539\n",
      "\u001b[1m13/13\u001b[0m \u001b[32m━━━━━━━━━━━━━━━━━━━━\u001b[0m\u001b[37m\u001b[0m \u001b[1m0s\u001b[0m 4ms/step \n",
      "✅ Layers: 3, Units: 512, Dropout: 0.5 → F1_micro: 0.9296, F1_macro: 0.8015\n",
      "\u001b[1m13/13\u001b[0m \u001b[32m━━━━━━━━━━━━━━━━━━━━\u001b[0m\u001b[37m\u001b[0m \u001b[1m0s\u001b[0m 5ms/step \n",
      "✅ Layers: 3, Units: 1024, Dropout: 0.2 → F1_micro: 0.9156, F1_macro: 0.6819\n",
      "\u001b[1m13/13\u001b[0m \u001b[32m━━━━━━━━━━━━━━━━━━━━\u001b[0m\u001b[37m\u001b[0m \u001b[1m0s\u001b[0m 5ms/step\n",
      "✅ Layers: 3, Units: 1024, Dropout: 0.3 → F1_micro: 0.9101, F1_macro: 0.6675\n",
      "\u001b[1m13/13\u001b[0m \u001b[32m━━━━━━━━━━━━━━━━━━━━\u001b[0m\u001b[37m\u001b[0m \u001b[1m0s\u001b[0m 6ms/step\n",
      "✅ Layers: 3, Units: 1024, Dropout: 0.4 → F1_micro: 0.9197, F1_macro: 0.7347\n",
      "\u001b[1m13/13\u001b[0m \u001b[32m━━━━━━━━━━━━━━━━━━━━\u001b[0m\u001b[37m\u001b[0m \u001b[1m0s\u001b[0m 6ms/step\n",
      "✅ Layers: 3, Units: 1024, Dropout: 0.5 → F1_micro: 0.9301, F1_macro: 0.7713\n",
      "\u001b[1m13/13\u001b[0m \u001b[32m━━━━━━━━━━━━━━━━━━━━\u001b[0m\u001b[37m\u001b[0m \u001b[1m0s\u001b[0m 4ms/step \n",
      "✅ Layers: 4, Units: 128, Dropout: 0.2 → F1_micro: 0.8732, F1_macro: 0.3936\n",
      "\u001b[1m13/13\u001b[0m \u001b[32m━━━━━━━━━━━━━━━━━━━━\u001b[0m\u001b[37m\u001b[0m \u001b[1m0s\u001b[0m 4ms/step \n",
      "✅ Layers: 4, Units: 128, Dropout: 0.3 → F1_micro: 0.8244, F1_macro: 0.2601\n",
      "\u001b[1m13/13\u001b[0m \u001b[32m━━━━━━━━━━━━━━━━━━━━\u001b[0m\u001b[37m\u001b[0m \u001b[1m0s\u001b[0m 4ms/step \n",
      "✅ Layers: 4, Units: 128, Dropout: 0.4 → F1_micro: 0.5786, F1_macro: 0.0807\n",
      "\u001b[1m13/13\u001b[0m \u001b[32m━━━━━━━━━━━━━━━━━━━━\u001b[0m\u001b[37m\u001b[0m \u001b[1m0s\u001b[0m 4ms/step \n",
      "✅ Layers: 4, Units: 128, Dropout: 0.5 → F1_micro: 0.4374, F1_macro: 0.0561\n",
      "\u001b[1m13/13\u001b[0m \u001b[32m━━━━━━━━━━━━━━━━━━━━\u001b[0m\u001b[37m\u001b[0m \u001b[1m0s\u001b[0m 4ms/step \n",
      "✅ Layers: 4, Units: 256, Dropout: 0.2 → F1_micro: 0.9031, F1_macro: 0.5413\n",
      "\u001b[1m13/13\u001b[0m \u001b[32m━━━━━━━━━━━━━━━━━━━━\u001b[0m\u001b[37m\u001b[0m \u001b[1m0s\u001b[0m 4ms/step \n",
      "✅ Layers: 4, Units: 256, Dropout: 0.3 → F1_micro: 0.9024, F1_macro: 0.6002\n",
      "\u001b[1m13/13\u001b[0m \u001b[32m━━━━━━━━━━━━━━━━━━━━\u001b[0m\u001b[37m\u001b[0m \u001b[1m0s\u001b[0m 4ms/step \n",
      "✅ Layers: 4, Units: 256, Dropout: 0.4 → F1_micro: 0.8693, F1_macro: 0.3963\n",
      "\u001b[1m13/13\u001b[0m \u001b[32m━━━━━━━━━━━━━━━━━━━━\u001b[0m\u001b[37m\u001b[0m \u001b[1m0s\u001b[0m 4ms/step \n",
      "✅ Layers: 4, Units: 256, Dropout: 0.5 → F1_micro: 0.8186, F1_macro: 0.2535\n",
      "\u001b[1m13/13\u001b[0m \u001b[32m━━━━━━━━━━━━━━━━━━━━\u001b[0m\u001b[37m\u001b[0m \u001b[1m0s\u001b[0m 4ms/step \n",
      "✅ Layers: 4, Units: 512, Dropout: 0.2 → F1_micro: 0.9104, F1_macro: 0.6567\n",
      "\u001b[1m13/13\u001b[0m \u001b[32m━━━━━━━━━━━━━━━━━━━━\u001b[0m\u001b[37m\u001b[0m \u001b[1m0s\u001b[0m 5ms/step \n",
      "✅ Layers: 4, Units: 512, Dropout: 0.3 → F1_micro: 0.9239, F1_macro: 0.7035\n",
      "\u001b[1m13/13\u001b[0m \u001b[32m━━━━━━━━━━━━━━━━━━━━\u001b[0m\u001b[37m\u001b[0m \u001b[1m0s\u001b[0m 5ms/step \n",
      "✅ Layers: 4, Units: 512, Dropout: 0.4 → F1_micro: 0.9186, F1_macro: 0.6636\n",
      "\u001b[1m13/13\u001b[0m \u001b[32m━━━━━━━━━━━━━━━━━━━━\u001b[0m\u001b[37m\u001b[0m \u001b[1m0s\u001b[0m 4ms/step \n",
      "✅ Layers: 4, Units: 512, Dropout: 0.5 → F1_micro: 0.8821, F1_macro: 0.4371\n",
      "\u001b[1m13/13\u001b[0m \u001b[32m━━━━━━━━━━━━━━━━━━━━\u001b[0m\u001b[37m\u001b[0m \u001b[1m0s\u001b[0m 6ms/step\n",
      "✅ Layers: 4, Units: 1024, Dropout: 0.2 → F1_micro: 0.8897, F1_macro: 0.4933\n",
      "\u001b[1m13/13\u001b[0m \u001b[32m━━━━━━━━━━━━━━━━━━━━\u001b[0m\u001b[37m\u001b[0m \u001b[1m0s\u001b[0m 7ms/step\n",
      "✅ Layers: 4, Units: 1024, Dropout: 0.3 → F1_micro: 0.9160, F1_macro: 0.7667\n",
      "\u001b[1m13/13\u001b[0m \u001b[32m━━━━━━━━━━━━━━━━━━━━\u001b[0m\u001b[37m\u001b[0m \u001b[1m0s\u001b[0m 6ms/step\n",
      "✅ Layers: 4, Units: 1024, Dropout: 0.4 → F1_micro: 0.9297, F1_macro: 0.7948\n",
      "\u001b[1m13/13\u001b[0m \u001b[32m━━━━━━━━━━━━━━━━━━━━\u001b[0m\u001b[37m\u001b[0m \u001b[1m0s\u001b[0m 7ms/step\n",
      "✅ Layers: 4, Units: 1024, Dropout: 0.5 → F1_micro: 0.9133, F1_macro: 0.6838\n"
     ]
    }
   ],
   "source": [
    "import pandas as pd\n",
    "import numpy as np\n",
    "from sklearn.model_selection import train_test_split\n",
    "from sklearn.preprocessing import MultiLabelBinarizer\n",
    "from sklearn.metrics import f1_score\n",
    "import tensorflow as tf\n",
    "from tensorflow.keras.models import Sequential\n",
    "from tensorflow.keras.layers import Dense, Dropout\n",
    "from tensorflow.keras.callbacks import EarlyStopping\n",
    "from tensorflow.keras import Input\n",
    "\n",
    "# === Cargar datos ===\n",
    "X = pd.read_csv(\"X_ready.csv\", index_col='gb_id')\n",
    "y = pd.read_csv(\"y_ready.csv\", index_col='gb_id')\n",
    "\n",
    "# === Binarizar etiquetas ===\n",
    "mlb = MultiLabelBinarizer()\n",
    "y['label_list'] = y['label'].str.split(';')\n",
    "y_mlb = mlb.fit_transform(y['label_list'])\n",
    "\n",
    "# === División ===\n",
    "X_train, X_val, y_train, y_val = train_test_split(\n",
    "    X, y_mlb, stratify=y['label'], test_size=0.2, random_state=42\n",
    ")\n",
    "\n",
    "# === Configuraciones ampliadas ===\n",
    "layer_options = [2, 3, 4]\n",
    "unit_options = [128, 256, 512, 1024]\n",
    "dropout_options = [0.2, 0.3, 0.4, 0.5]\n",
    "\n",
    "# === Función para secuencia de unidades decrecientes ===\n",
    "units_sequence = {\n",
    "    2: lambda u: [u, u // 2],\n",
    "    3: lambda u: [u, u // 2, u // 4],\n",
    "    4: lambda u: [u, u // 2, u // 4, u // 6],\n",
    "}\n",
    "\n",
    "# === Evaluación de modelos ===\n",
    "results = []\n",
    "\n",
    "for n_layers in layer_options:\n",
    "    for units in unit_options:\n",
    "        for dropout in dropout_options:\n",
    "            model = Sequential()\n",
    "            model.add(Input(shape=(X_train.shape[1],)))\n",
    "\n",
    "            for layer_units in units_sequence[n_layers](units):\n",
    "                model.add(Dense(layer_units, activation='relu'))\n",
    "                model.add(Dropout(dropout))\n",
    "\n",
    "\n",
    "            model.add(Dense(y_train.shape[1], activation='sigmoid'))\n",
    "\n",
    "            model.compile(\n",
    "                loss='binary_crossentropy',\n",
    "                optimizer='adam',\n",
    "                metrics=['accuracy']\n",
    "            )\n",
    "\n",
    "            early_stop = EarlyStopping(monitor='val_loss', patience=5, restore_best_weights=True)\n",
    "\n",
    "            model.fit(\n",
    "                X_train, y_train,\n",
    "                validation_data=(X_val, y_val),\n",
    "                epochs=100,\n",
    "                batch_size=32,\n",
    "                callbacks=[early_stop],\n",
    "                verbose=0\n",
    "            )\n",
    "\n",
    "            y_pred_proba = model.predict(X_val)\n",
    "            y_pred = (y_pred_proba > 0.5).astype(int)\n",
    "\n",
    "            f1_micro = f1_score(y_val, y_pred, average='micro')\n",
    "            f1_macro = f1_score(y_val, y_pred, average='macro')\n",
    "\n",
    "            print(f\"✅ Layers: {n_layers}, Units: {units}, Dropout: {dropout} → F1_micro: {f1_micro:.4f}, F1_macro: {f1_macro:.4f}\")\n",
    "\n",
    "            results.append({\n",
    "                'layers': n_layers,\n",
    "                'units': units,\n",
    "                'dropout': dropout,\n",
    "                'f1_micro': f1_micro,\n",
    "                'f1_macro': f1_macro\n",
    "            })\n",
    "\n",
    "# === Guardar resultados en CSV (opcional)\n",
    "pd.DataFrame(results).to_csv(\"experiments/nn_gridsearch_results.csv\", index=False)\n"
   ]
  },
  {
   "cell_type": "code",
   "execution_count": 16,
   "metadata": {},
   "outputs": [
    {
     "name": "stdout",
     "output_type": "stream",
     "text": [
      "Epoch 1/100\n",
      "\u001b[1m52/52\u001b[0m \u001b[32m━━━━━━━━━━━━━━━━━━━━\u001b[0m\u001b[37m\u001b[0m \u001b[1m1s\u001b[0m 9ms/step - accuracy: 0.0363 - loss: 0.4020 - val_accuracy: 0.2015 - val_loss: 0.0873\n",
      "Epoch 2/100\n",
      "\u001b[1m52/52\u001b[0m \u001b[32m━━━━━━━━━━━━━━━━━━━━\u001b[0m\u001b[37m\u001b[0m \u001b[1m0s\u001b[0m 7ms/step - accuracy: 0.2072 - loss: 0.1066 - val_accuracy: 0.4951 - val_loss: 0.0696\n",
      "Epoch 3/100\n",
      "\u001b[1m52/52\u001b[0m \u001b[32m━━━━━━━━━━━━━━━━━━━━\u001b[0m\u001b[37m\u001b[0m \u001b[1m0s\u001b[0m 7ms/step - accuracy: 0.4094 - loss: 0.0785 - val_accuracy: 0.5801 - val_loss: 0.0519\n",
      "Epoch 4/100\n",
      "\u001b[1m52/52\u001b[0m \u001b[32m━━━━━━━━━━━━━━━━━━━━\u001b[0m\u001b[37m\u001b[0m \u001b[1m0s\u001b[0m 7ms/step - accuracy: 0.5455 - loss: 0.0619 - val_accuracy: 0.6092 - val_loss: 0.0390\n",
      "Epoch 5/100\n",
      "\u001b[1m52/52\u001b[0m \u001b[32m━━━━━━━━━━━━━━━━━━━━\u001b[0m\u001b[37m\u001b[0m \u001b[1m0s\u001b[0m 7ms/step - accuracy: 0.6151 - loss: 0.0471 - val_accuracy: 0.6286 - val_loss: 0.0311\n",
      "Epoch 6/100\n",
      "\u001b[1m52/52\u001b[0m \u001b[32m━━━━━━━━━━━━━━━━━━━━\u001b[0m\u001b[37m\u001b[0m \u001b[1m0s\u001b[0m 7ms/step - accuracy: 0.6555 - loss: 0.0403 - val_accuracy: 0.7015 - val_loss: 0.0256\n",
      "Epoch 7/100\n",
      "\u001b[1m52/52\u001b[0m \u001b[32m━━━━━━━━━━━━━━━━━━━━\u001b[0m\u001b[37m\u001b[0m \u001b[1m0s\u001b[0m 7ms/step - accuracy: 0.6717 - loss: 0.0327 - val_accuracy: 0.6966 - val_loss: 0.0223\n",
      "Epoch 8/100\n",
      "\u001b[1m52/52\u001b[0m \u001b[32m━━━━━━━━━━━━━━━━━━━━\u001b[0m\u001b[37m\u001b[0m \u001b[1m0s\u001b[0m 7ms/step - accuracy: 0.6908 - loss: 0.0276 - val_accuracy: 0.7257 - val_loss: 0.0206\n",
      "Epoch 9/100\n",
      "\u001b[1m52/52\u001b[0m \u001b[32m━━━━━━━━━━━━━━━━━━━━\u001b[0m\u001b[37m\u001b[0m \u001b[1m0s\u001b[0m 7ms/step - accuracy: 0.7145 - loss: 0.0248 - val_accuracy: 0.7379 - val_loss: 0.0185\n",
      "Epoch 10/100\n",
      "\u001b[1m52/52\u001b[0m \u001b[32m━━━━━━━━━━━━━━━━━━━━\u001b[0m\u001b[37m\u001b[0m \u001b[1m0s\u001b[0m 7ms/step - accuracy: 0.7275 - loss: 0.0217 - val_accuracy: 0.7476 - val_loss: 0.0178\n",
      "Epoch 11/100\n",
      "\u001b[1m52/52\u001b[0m \u001b[32m━━━━━━━━━━━━━━━━━━━━\u001b[0m\u001b[37m\u001b[0m \u001b[1m0s\u001b[0m 7ms/step - accuracy: 0.7210 - loss: 0.0212 - val_accuracy: 0.7621 - val_loss: 0.0172\n",
      "Epoch 12/100\n",
      "\u001b[1m52/52\u001b[0m \u001b[32m━━━━━━━━━━━━━━━━━━━━\u001b[0m\u001b[37m\u001b[0m \u001b[1m0s\u001b[0m 7ms/step - accuracy: 0.7629 - loss: 0.0179 - val_accuracy: 0.7476 - val_loss: 0.0159\n",
      "Epoch 13/100\n",
      "\u001b[1m52/52\u001b[0m \u001b[32m━━━━━━━━━━━━━━━━━━━━\u001b[0m\u001b[37m\u001b[0m \u001b[1m0s\u001b[0m 7ms/step - accuracy: 0.7450 - loss: 0.0189 - val_accuracy: 0.7184 - val_loss: 0.0156\n",
      "Epoch 14/100\n",
      "\u001b[1m52/52\u001b[0m \u001b[32m━━━━━━━━━━━━━━━━━━━━\u001b[0m\u001b[37m\u001b[0m \u001b[1m0s\u001b[0m 7ms/step - accuracy: 0.7545 - loss: 0.0155 - val_accuracy: 0.7791 - val_loss: 0.0160\n",
      "Epoch 15/100\n",
      "\u001b[1m52/52\u001b[0m \u001b[32m━━━━━━━━━━━━━━━━━━━━\u001b[0m\u001b[37m\u001b[0m \u001b[1m0s\u001b[0m 7ms/step - accuracy: 0.7898 - loss: 0.0141 - val_accuracy: 0.7694 - val_loss: 0.0152\n",
      "Epoch 16/100\n",
      "\u001b[1m52/52\u001b[0m \u001b[32m━━━━━━━━━━━━━━━━━━━━\u001b[0m\u001b[37m\u001b[0m \u001b[1m0s\u001b[0m 7ms/step - accuracy: 0.7942 - loss: 0.0127 - val_accuracy: 0.7718 - val_loss: 0.0140\n",
      "Epoch 17/100\n",
      "\u001b[1m52/52\u001b[0m \u001b[32m━━━━━━━━━━━━━━━━━━━━\u001b[0m\u001b[37m\u001b[0m \u001b[1m0s\u001b[0m 7ms/step - accuracy: 0.7950 - loss: 0.0124 - val_accuracy: 0.7524 - val_loss: 0.0140\n",
      "Epoch 18/100\n",
      "\u001b[1m52/52\u001b[0m \u001b[32m━━━━━━━━━━━━━━━━━━━━\u001b[0m\u001b[37m\u001b[0m \u001b[1m0s\u001b[0m 7ms/step - accuracy: 0.7634 - loss: 0.0115 - val_accuracy: 0.7646 - val_loss: 0.0147\n",
      "Epoch 19/100\n",
      "\u001b[1m52/52\u001b[0m \u001b[32m━━━━━━━━━━━━━━━━━━━━\u001b[0m\u001b[37m\u001b[0m \u001b[1m0s\u001b[0m 7ms/step - accuracy: 0.7821 - loss: 0.0119 - val_accuracy: 0.7694 - val_loss: 0.0137\n",
      "Epoch 20/100\n",
      "\u001b[1m52/52\u001b[0m \u001b[32m━━━━━━━━━━━━━━━━━━━━\u001b[0m\u001b[37m\u001b[0m \u001b[1m0s\u001b[0m 7ms/step - accuracy: 0.7754 - loss: 0.0106 - val_accuracy: 0.7670 - val_loss: 0.0136\n",
      "Epoch 21/100\n",
      "\u001b[1m52/52\u001b[0m \u001b[32m━━━━━━━━━━━━━━━━━━━━\u001b[0m\u001b[37m\u001b[0m \u001b[1m0s\u001b[0m 7ms/step - accuracy: 0.7914 - loss: 0.0097 - val_accuracy: 0.7597 - val_loss: 0.0139\n",
      "Epoch 22/100\n",
      "\u001b[1m52/52\u001b[0m \u001b[32m━━━━━━━━━━━━━━━━━━━━\u001b[0m\u001b[37m\u001b[0m \u001b[1m0s\u001b[0m 7ms/step - accuracy: 0.7753 - loss: 0.0097 - val_accuracy: 0.7864 - val_loss: 0.0143\n",
      "Epoch 23/100\n",
      "\u001b[1m52/52\u001b[0m \u001b[32m━━━━━━━━━━━━━━━━━━━━\u001b[0m\u001b[37m\u001b[0m \u001b[1m0s\u001b[0m 7ms/step - accuracy: 0.7893 - loss: 0.0080 - val_accuracy: 0.7670 - val_loss: 0.0135\n",
      "Epoch 24/100\n",
      "\u001b[1m52/52\u001b[0m \u001b[32m━━━━━━━━━━━━━━━━━━━━\u001b[0m\u001b[37m\u001b[0m \u001b[1m0s\u001b[0m 7ms/step - accuracy: 0.8043 - loss: 0.0082 - val_accuracy: 0.7597 - val_loss: 0.0138\n",
      "Epoch 25/100\n",
      "\u001b[1m52/52\u001b[0m \u001b[32m━━━━━━━━━━━━━━━━━━━━\u001b[0m\u001b[37m\u001b[0m \u001b[1m0s\u001b[0m 7ms/step - accuracy: 0.7677 - loss: 0.0071 - val_accuracy: 0.7354 - val_loss: 0.0136\n",
      "Epoch 26/100\n",
      "\u001b[1m52/52\u001b[0m \u001b[32m━━━━━━━━━━━━━━━━━━━━\u001b[0m\u001b[37m\u001b[0m \u001b[1m0s\u001b[0m 7ms/step - accuracy: 0.8170 - loss: 0.0067 - val_accuracy: 0.7451 - val_loss: 0.0141\n",
      "Epoch 27/100\n",
      "\u001b[1m52/52\u001b[0m \u001b[32m━━━━━━━━━━━━━━━━━━━━\u001b[0m\u001b[37m\u001b[0m \u001b[1m0s\u001b[0m 7ms/step - accuracy: 0.8196 - loss: 0.0071 - val_accuracy: 0.7621 - val_loss: 0.0142\n",
      "Epoch 28/100\n",
      "\u001b[1m52/52\u001b[0m \u001b[32m━━━━━━━━━━━━━━━━━━━━\u001b[0m\u001b[37m\u001b[0m \u001b[1m0s\u001b[0m 7ms/step - accuracy: 0.8026 - loss: 0.0066 - val_accuracy: 0.7621 - val_loss: 0.0136\n",
      "Epoch 29/100\n",
      "\u001b[1m52/52\u001b[0m \u001b[32m━━━━━━━━━━━━━━━━━━━━\u001b[0m\u001b[37m\u001b[0m \u001b[1m0s\u001b[0m 7ms/step - accuracy: 0.8213 - loss: 0.0061 - val_accuracy: 0.7646 - val_loss: 0.0133\n",
      "Epoch 30/100\n",
      "\u001b[1m52/52\u001b[0m \u001b[32m━━━━━━━━━━━━━━━━━━━━\u001b[0m\u001b[37m\u001b[0m \u001b[1m0s\u001b[0m 7ms/step - accuracy: 0.7909 - loss: 0.0049 - val_accuracy: 0.7621 - val_loss: 0.0137\n",
      "Epoch 31/100\n",
      "\u001b[1m52/52\u001b[0m \u001b[32m━━━━━━━━━━━━━━━━━━━━\u001b[0m\u001b[37m\u001b[0m \u001b[1m0s\u001b[0m 7ms/step - accuracy: 0.8267 - loss: 0.0051 - val_accuracy: 0.7791 - val_loss: 0.0132\n",
      "Epoch 32/100\n",
      "\u001b[1m52/52\u001b[0m \u001b[32m━━━━━━━━━━━━━━━━━━━━\u001b[0m\u001b[37m\u001b[0m \u001b[1m0s\u001b[0m 7ms/step - accuracy: 0.8245 - loss: 0.0055 - val_accuracy: 0.7840 - val_loss: 0.0137\n",
      "Epoch 33/100\n",
      "\u001b[1m52/52\u001b[0m \u001b[32m━━━━━━━━━━━━━━━━━━━━\u001b[0m\u001b[37m\u001b[0m \u001b[1m0s\u001b[0m 7ms/step - accuracy: 0.8428 - loss: 0.0047 - val_accuracy: 0.7476 - val_loss: 0.0153\n",
      "Epoch 34/100\n",
      "\u001b[1m52/52\u001b[0m \u001b[32m━━━━━━━━━━━━━━━━━━━━\u001b[0m\u001b[37m\u001b[0m \u001b[1m0s\u001b[0m 7ms/step - accuracy: 0.8328 - loss: 0.0051 - val_accuracy: 0.7743 - val_loss: 0.0142\n",
      "Epoch 35/100\n",
      "\u001b[1m52/52\u001b[0m \u001b[32m━━━━━━━━━━━━━━━━━━━━\u001b[0m\u001b[37m\u001b[0m \u001b[1m0s\u001b[0m 7ms/step - accuracy: 0.7954 - loss: 0.0048 - val_accuracy: 0.7961 - val_loss: 0.0138\n",
      "Epoch 36/100\n",
      "\u001b[1m52/52\u001b[0m \u001b[32m━━━━━━━━━━━━━━━━━━━━\u001b[0m\u001b[37m\u001b[0m \u001b[1m0s\u001b[0m 7ms/step - accuracy: 0.8196 - loss: 0.0052 - val_accuracy: 0.7743 - val_loss: 0.0139\n",
      "Epoch 37/100\n",
      "\u001b[1m52/52\u001b[0m \u001b[32m━━━━━━━━━━━━━━━━━━━━\u001b[0m\u001b[37m\u001b[0m \u001b[1m0s\u001b[0m 7ms/step - accuracy: 0.8032 - loss: 0.0045 - val_accuracy: 0.7840 - val_loss: 0.0141\n",
      "Epoch 38/100\n",
      "\u001b[1m52/52\u001b[0m \u001b[32m━━━━━━━━━━━━━━━━━━━━\u001b[0m\u001b[37m\u001b[0m \u001b[1m0s\u001b[0m 7ms/step - accuracy: 0.8217 - loss: 0.0040 - val_accuracy: 0.7888 - val_loss: 0.0136\n",
      "Epoch 39/100\n",
      "\u001b[1m52/52\u001b[0m \u001b[32m━━━━━━━━━━━━━━━━━━━━\u001b[0m\u001b[37m\u001b[0m \u001b[1m0s\u001b[0m 7ms/step - accuracy: 0.8229 - loss: 0.0037 - val_accuracy: 0.7718 - val_loss: 0.0135\n",
      "Epoch 40/100\n",
      "\u001b[1m52/52\u001b[0m \u001b[32m━━━━━━━━━━━━━━━━━━━━\u001b[0m\u001b[37m\u001b[0m \u001b[1m0s\u001b[0m 7ms/step - accuracy: 0.8324 - loss: 0.0038 - val_accuracy: 0.7573 - val_loss: 0.0138\n",
      "Epoch 41/100\n",
      "\u001b[1m52/52\u001b[0m \u001b[32m━━━━━━━━━━━━━━━━━━━━\u001b[0m\u001b[37m\u001b[0m \u001b[1m0s\u001b[0m 7ms/step - accuracy: 0.8047 - loss: 0.0038 - val_accuracy: 0.7670 - val_loss: 0.0143\n",
      "\u001b[1m13/13\u001b[0m \u001b[32m━━━━━━━━━━━━━━━━━━━━\u001b[0m\u001b[37m\u001b[0m \u001b[1m0s\u001b[0m 6ms/step\n",
      "\n",
      "F1 Score (micro): 0.9243\n",
      "F1 Score (macro): 0.7631\n",
      "\n",
      "=== Classification Report ===\n",
      "                                          precision    recall  f1-score   support\n",
      "\n",
      "                                 Allergy       0.00      0.00      0.00         1\n",
      "                 Análisis cromatográfico       1.00      1.00      1.00         1\n",
      "            Biochemical Research Methods       1.00      0.67      0.80         3\n",
      "        Biochemistry & Molecular Biology       0.86      0.91      0.88        78\n",
      "                                 Biology       0.50      0.50      0.50         2\n",
      "                              Biophysics       0.80      0.50      0.62         8\n",
      "    Biotechnology & Applied Microbiology       1.00      1.00      1.00         5\n",
      "        Cardiac & Cardiovascular Systems       1.00      1.00      1.00         1\n",
      "               Cell & Tissue Engineering       0.00      0.00      0.00         1\n",
      "                            Cell Biology       0.90      0.97      0.94        37\n",
      "          Chemistry, Inorganic & Nuclear       1.00      1.00      1.00         2\n",
      "                    Chemistry, Medicinal       0.90      0.90      0.90        21\n",
      "            Chemistry, Multidisciplinary       0.92      1.00      0.96        12\n",
      "                      Chemistry, Organic       1.00      1.00      1.00         5\n",
      "                      Clinical Neurology       0.88      1.00      0.93         7\n",
      "                             Dermatology       1.00      1.00      1.00         1\n",
      "              Endocrinology & Metabolism       1.00      1.00      1.00         5\n",
      "                Enfermedades infecciosas       1.00      1.00      1.00         1\n",
      "                            Farmacología       1.00      1.00      1.00         1\n",
      "           Gastroenterology & Hepatology       1.00      0.80      0.89         5\n",
      "                     Genetics & Heredity       0.93      0.97      0.95        38\n",
      "                              Hematology       0.67      1.00      0.80         2\n",
      "              Historia de América Latina       1.00      1.00      1.00         1\n",
      "Historiografía, Bibliografía y Biografía       1.00      1.00      1.00         1\n",
      "                                 History       0.83      1.00      0.91         5\n",
      "         History & Philosophy Of Science       1.00      1.00      1.00         2\n",
      "                              Immunology       0.98      0.98      0.98        59\n",
      "                     Infectious Diseases       0.70      0.58      0.64        12\n",
      "    Integrative & Complementary Medicine       0.00      0.00      0.00         1\n",
      "                           Invertebrados       0.00      0.00      0.00         2\n",
      "                     Literature, Romance       0.00      0.00      0.00         1\n",
      "            Medicine, General & Internal       1.00      1.00      1.00         3\n",
      "       Medicine, Research & Experimental       1.00      0.83      0.91         6\n",
      "          Medieval & Renaissance Studies       0.00      0.00      0.00         1\n",
      "                            Microbiology       0.91      1.00      0.95        20\n",
      "              Multidisciplinary Sciences       1.00      1.00      1.00        27\n",
      "                               Nemátodos       0.00      0.00      0.00         1\n",
      "                           Neurosciences       0.94      0.84      0.89        19\n",
      "                 Obstetrics & Gynecology       1.00      1.00      1.00         2\n",
      "                                Oncology       0.88      0.88      0.88         8\n",
      "                            Parasitology       0.96      1.00      0.98        24\n",
      "                           Parasitología       1.00      0.80      0.89         5\n",
      "                    Parasitología animal       0.57      1.00      0.73         8\n",
      "                               Pathology       1.00      1.00      1.00        12\n",
      "                               Patología       0.00      0.00      0.00         1\n",
      "             Peripheral Vascular Disease       1.00      1.00      1.00         1\n",
      "                 Pharmacology & Pharmacy       1.00      1.00      1.00        24\n",
      "                              Physiology       0.50      0.50      0.50         2\n",
      "                             Plaguicidas       1.00      1.00      1.00         1\n",
      "                          Plant Sciences       1.00      0.67      0.80         3\n",
      "                               Protistas       0.00      0.00      0.00         1\n",
      "                    Reproductive Biology       1.00      1.00      1.00         2\n",
      "                            Rheumatology       1.00      1.00      1.00        78\n",
      "                                 Surgery       1.00      1.00      1.00         1\n",
      "                         Transplantation       1.00      1.00      1.00         1\n",
      "                       Tropical Medicine       0.90      1.00      0.95         9\n",
      "                     Veterinary Sciences       0.00      0.00      0.00         1\n",
      "                                Virology       0.75      1.00      0.86         3\n",
      "                                 Zoology       1.00      1.00      1.00         1\n",
      "\n",
      "                               micro avg       0.92      0.93      0.92       586\n",
      "                               macro avg       0.77      0.77      0.76       586\n",
      "                            weighted avg       0.91      0.93      0.92       586\n",
      "                             samples avg       0.94      0.94      0.93       586\n",
      "\n",
      "Multilabel exact match accuracy: 0.8422\n"
     ]
    },
    {
     "name": "stderr",
     "output_type": "stream",
     "text": [
      "c:\\Users\\Pablo\\OneDrive\\Documentos\\Estudios\\DATCOM\\Trabajo Fin de Máster\\App\\venv\\Lib\\site-packages\\sklearn\\metrics\\_classification.py:1565: UndefinedMetricWarning: Precision is ill-defined and being set to 0.0 in labels with no predicted samples. Use `zero_division` parameter to control this behavior.\n",
      "  _warn_prf(average, modifier, f\"{metric.capitalize()} is\", len(result))\n",
      "c:\\Users\\Pablo\\OneDrive\\Documentos\\Estudios\\DATCOM\\Trabajo Fin de Máster\\App\\venv\\Lib\\site-packages\\sklearn\\metrics\\_classification.py:1565: UndefinedMetricWarning: Precision is ill-defined and being set to 0.0 in samples with no predicted labels. Use `zero_division` parameter to control this behavior.\n",
      "  _warn_prf(average, modifier, f\"{metric.capitalize()} is\", len(result))\n"
     ]
    }
   ],
   "source": [
    "import pandas as pd\n",
    "import numpy as np\n",
    "from sklearn.model_selection import train_test_split\n",
    "from sklearn.preprocessing import MultiLabelBinarizer\n",
    "import tensorflow as tf\n",
    "from tensorflow.keras.models import Sequential\n",
    "from tensorflow.keras.layers import Dense, Dropout, Input\n",
    "from tensorflow.keras.callbacks import EarlyStopping\n",
    "import joblib\n",
    "from sklearn.metrics import f1_score, classification_report\n",
    "from sklearn.metrics import accuracy_score\n",
    "\n",
    "# === 1. Cargar datos ===\n",
    "X = pd.read_csv(\"X_ready.csv\", index_col='gb_id')\n",
    "y = pd.read_csv(\"y_ready.csv\", index_col='gb_id')\n",
    "\n",
    "# === 2. Binarizar etiquetas ===\n",
    "mlb = MultiLabelBinarizer()\n",
    "y['label_list'] = y['label'].str.split(';')\n",
    "y_mlb = mlb.fit_transform(y['label_list'])\n",
    "\n",
    "# === 3. Guardar binarizador ===\n",
    "joblib.dump(mlb, \"models/label_binarizer.joblib\")\n",
    "\n",
    "# === 4. División\n",
    "X_train, X_val, y_train, y_val = train_test_split(\n",
    "    X, y_mlb, stratify=y['label'], test_size=0.2, random_state=42\n",
    ")\n",
    "\n",
    "# === 5. Modelo óptimo\n",
    "model = Sequential([\n",
    "    Input(shape=(X_train.shape[1],)),\n",
    "    Dense(1024, activation='relu'),\n",
    "    Dropout(0.4),\n",
    "    Dense(512, activation='relu'),\n",
    "    Dropout(0.4),\n",
    "    Dense(256, activation='relu'),\n",
    "    Dropout(0.4),\n",
    "    Dense(128, activation='relu'),\n",
    "    Dropout(0.4),\n",
    "    Dense(y_train.shape[1], activation='sigmoid')\n",
    "])\n",
    "\n",
    "model.compile(\n",
    "    loss='binary_crossentropy',\n",
    "    optimizer='adam',\n",
    "    metrics=['accuracy']\n",
    ")\n",
    "\n",
    "early_stop = EarlyStopping(monitor='val_loss', patience=10, restore_best_weights=True)\n",
    "\n",
    "model.fit(\n",
    "    X_train, y_train,\n",
    "    validation_data=(X_val, y_val),\n",
    "    epochs=100,\n",
    "    batch_size=32,\n",
    "    callbacks=[early_stop],\n",
    "    verbose=1\n",
    ")\n",
    "\n",
    "# === 6. Guardar modelo\n",
    "model.save(\"models/best_model_3x1024_dropout04.keras\")\n",
    "\n",
    "# === 7. Evaluación ===\n",
    "y_pred_proba = model.predict(X_val)\n",
    "y_pred = (y_pred_proba > 0.5).astype(int)\n",
    "\n",
    "f1_micro = f1_score(y_val, y_pred, average='micro')\n",
    "f1_macro = f1_score(y_val, y_pred, average='macro')\n",
    "print(f\"\\nF1 Score (micro): {f1_micro:.4f}\")\n",
    "print(f\"F1 Score (macro): {f1_macro:.4f}\")\n",
    "\n",
    "print(\"\\n=== Classification Report ===\")\n",
    "print(classification_report(y_val, y_pred, target_names=mlb.classes_))\n",
    "\n",
    "acc = accuracy_score(y_val, y_pred)\n",
    "print(f\"Multilabel exact match accuracy: {acc:.4f}\")"
   ]
  }
 ],
 "metadata": {
  "kernelspec": {
   "display_name": "venv",
   "language": "python",
   "name": "python3"
  },
  "language_info": {
   "codemirror_mode": {
    "name": "ipython",
    "version": 3
   },
   "file_extension": ".py",
   "mimetype": "text/x-python",
   "name": "python",
   "nbconvert_exporter": "python",
   "pygments_lexer": "ipython3",
   "version": "3.12.8"
  }
 },
 "nbformat": 4,
 "nbformat_minor": 2
}
