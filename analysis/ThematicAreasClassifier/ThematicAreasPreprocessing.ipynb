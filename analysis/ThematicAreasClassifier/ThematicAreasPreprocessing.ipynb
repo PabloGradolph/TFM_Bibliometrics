{
 "cells": [
  {
   "cell_type": "markdown",
   "metadata": {},
   "source": [
    "# ✅ Decisiones de Preprocesamiento basadas en el EDA\n",
    "\n",
    "## 🧼 Variables a descartar\n",
    "\n",
    "| Variable          | Justificación                  |\n",
    "| ----------------- | ------------------------------ |\n",
    "| `gb_id`           | Es un ID sin valor predictivo. |\n",
    "| `conference_name` | 89% nulos → no aporta.         |\n",
    "| `quartile_value`  | 100% nulo → eliminar.          |\n",
    "\n",
    "\n",
    "## 🧠 Variables textuales\n",
    "- title, abstract, keywords: juntas tienen mucho potencial.\n",
    "- Algunas publicaciones no tienen abstract, pero casi todas tienen title y keywords, así que es útil concatenarlas en una nueva columna text.\n",
    "\n",
    "## 🔠 Variables categóricas\n",
    "\n",
    "| Variable           | Relevancia           | Acción                                        |\n",
    "| ------------------ | -------------------- | --------------------------------------------- |\n",
    "| `language`         | ✅ chi² significativo | Codificar (OneHot o embedding)                |\n",
    "| `publication_type` | ❌ Introduce ruido    | Eliminar                                      |\n",
    "| `source`           | ❌ No coinciden       | Eliminar                                      |\n",
    "| `editorial`        | ✅ pero disperso      | Codificar si se limita a top N más frecuentes |\n",
    "\n",
    "📌 Tip: para source y editorial, agrupamos los valores menos frecuentes en \"other\" para reducir dimensionalidad.\n",
    "\n",
    "## 🔢 Variables numéricas\n",
    "\n",
    "| Variable                      | Observación                                                     |\n",
    "| ----------------------------- | --------------------------------------------------------------- |\n",
    "| `citations`                   | Muy sesgada, aplicar log(1+x) o escalado robusto                |\n",
    "| `impact_factor`, `percentile` | Informativas, poco correladas entre sí                          |\n",
    "| `year`                        | Distribución conocida → usar como feature numérico directamente |\n",
    "\n",
    "## 🎯 Variable objetivo: label\n",
    "\n",
    "- El 62% tiene solo una etiqueta → empezaremos como problema de clasificación multiclase.\n",
    "- Más adelante probaremos a ampliarlo a multilabel si es útil."
   ]
  },
  {
   "cell_type": "code",
   "execution_count": 329,
   "metadata": {},
   "outputs": [],
   "source": [
    "import pandas as pd\n",
    "import numpy as np\n",
    "from sklearn.preprocessing import OneHotEncoder, StandardScaler\n",
    "from sklearn.feature_extraction.text import TfidfVectorizer\n",
    "from sklearn.pipeline import Pipeline\n",
    "from sklearn.compose import ColumnTransformer\n",
    "import joblib\n",
    "import scipy\n",
    "\n",
    "# === Cargar dataset ===\n",
    "df = pd.read_csv(\"../data/datasets/publications_training_dataset.csv\", index_col='gb_id')"
   ]
  },
  {
   "cell_type": "markdown",
   "metadata": {},
   "source": [
    "Eliminar columnas no útiles"
   ]
  },
  {
   "cell_type": "code",
   "execution_count": 330,
   "metadata": {},
   "outputs": [],
   "source": [
    "df = df.drop(columns=[\"conference_name\", \"quartile_value\"])"
   ]
  },
  {
   "cell_type": "markdown",
   "metadata": {},
   "source": [
    "Eliminar clases con muy pocas muestras"
   ]
  },
  {
   "cell_type": "code",
   "execution_count": 331,
   "metadata": {},
   "outputs": [],
   "source": [
    "label_counts = df['label'].value_counts()\n",
    "labels_to_keep = label_counts[label_counts > 3].index\n",
    "df = df[df['label'].isin(labels_to_keep)].copy()"
   ]
  },
  {
   "cell_type": "markdown",
   "metadata": {},
   "source": [
    "Rellenar NaNs + construir texto unificado"
   ]
  },
  {
   "cell_type": "code",
   "execution_count": 332,
   "metadata": {},
   "outputs": [],
   "source": [
    "df['title'] = df['title'].fillna('')\n",
    "df['keywords'] = df['keywords'].fillna('')\n",
    "df['text'] = df['title'] + ' ' + df['keywords']"
   ]
  },
  {
   "cell_type": "code",
   "execution_count": 333,
   "metadata": {},
   "outputs": [],
   "source": [
    "df['jcr_materia_main'] = df['jcr_materias'].fillna('').apply(lambda x: x.split(';')[0] if x else 'unknown')"
   ]
  },
  {
   "cell_type": "markdown",
   "metadata": {},
   "source": [
    "Limitar categorías más frecuentes"
   ]
  },
  {
   "cell_type": "code",
   "execution_count": 265,
   "metadata": {},
   "outputs": [],
   "source": []
  },
  {
   "cell_type": "markdown",
   "metadata": {},
   "source": [
    "Preprocesamiento numérico: log transform + fillna"
   ]
  },
  {
   "cell_type": "code",
   "execution_count": 334,
   "metadata": {},
   "outputs": [],
   "source": [
    "df['citations'] = df['citations'].fillna(0)\n",
    "df['citations_log'] = np.log1p(df['citations'])"
   ]
  },
  {
   "cell_type": "code",
   "execution_count": 335,
   "metadata": {},
   "outputs": [],
   "source": [
    "for col in ['impact_factor', 'percentile', 'international_collab', 'num_countries', 'num_foreign_affils', 'num_spanish_affils']:\n",
    "    df[col] = df[col].fillna(0)"
   ]
  },
  {
   "cell_type": "code",
   "execution_count": 336,
   "metadata": {},
   "outputs": [],
   "source": [
    "for col in ['source', 'editorial', 'publication_type']:\n",
    "    df[col] = df[col].fillna('')"
   ]
  },
  {
   "cell_type": "markdown",
   "metadata": {},
   "source": [
    "Selección de columnas"
   ]
  },
  {
   "cell_type": "code",
   "execution_count": 337,
   "metadata": {},
   "outputs": [],
   "source": [
    "X = df[[\n",
    "    'text', 'language', 'editorial', 'source', 'publication_type',\n",
    "    'jcr_materia_main',\n",
    "    'citations_log', 'impact_factor', 'percentile', 'year',\n",
    "    'international_collab', 'num_countries', 'num_foreign_affils', 'num_spanish_affils'\n",
    "]]\n",
    "y = df['label']"
   ]
  },
  {
   "cell_type": "markdown",
   "metadata": {},
   "source": [
    "## PIPELINE"
   ]
  },
  {
   "cell_type": "code",
   "execution_count": 338,
   "metadata": {},
   "outputs": [],
   "source": [
    "from sklearn.decomposition import TruncatedSVD\n",
    "\n",
    "# === Subpipelines ===\n",
    "\n",
    "text_pipeline = Pipeline([\n",
    "    ('tfidf', TfidfVectorizer(max_features=3000, stop_words='english')),\n",
    "    ('svd', TruncatedSVD(n_components=800, random_state=42))\n",
    "])\n",
    "\n",
    "source_pipeline = Pipeline([\n",
    "    ('tfidf', TfidfVectorizer(max_features=100, stop_words='english')),\n",
    "    ('svd', TruncatedSVD(n_components=20, random_state=42))\n",
    "])\n",
    "\n",
    "editorial_pipeline = Pipeline([\n",
    "    ('tfidf', TfidfVectorizer(max_features=100, stop_words='english')),\n",
    "    ('svd', TruncatedSVD(n_components=20, random_state=42))\n",
    "])\n",
    "\n",
    "pubtype_pipeline = Pipeline([\n",
    "    ('tfidf', TfidfVectorizer(max_features=100, stop_words='english')),\n",
    "    ('svd', TruncatedSVD(n_components=20, random_state=42))\n",
    "])\n",
    "\n",
    "categorical_pipeline = Pipeline([\n",
    "    ('onehot', OneHotEncoder(handle_unknown='ignore'))\n",
    "])\n",
    "\n",
    "numeric_cols = ['citations_log', 'impact_factor', 'percentile', 'year',\n",
    "                'international_collab', 'num_countries', 'num_foreign_affils', 'num_spanish_affils']\n",
    "\n",
    "numeric_pipeline = Pipeline([\n",
    "    ('scaler', StandardScaler())\n",
    "])\n",
    "\n",
    "# === ColumnTransformer combinado ===\n",
    "preprocessor = ColumnTransformer(transformers=[\n",
    "    ('text', text_pipeline, 'text'),\n",
    "    ('source', source_pipeline, 'source'),\n",
    "    ('editorial', editorial_pipeline, 'editorial'),\n",
    "    ('pubtype', pubtype_pipeline, 'publication_type'),\n",
    "    ('cat', categorical_pipeline, ['language', 'jcr_materia_main']),\n",
    "    ('num', numeric_pipeline, numeric_cols)\n",
    "])\n"
   ]
  },
  {
   "cell_type": "markdown",
   "metadata": {},
   "source": [
    "Preprocesamos y guardamos el resultado"
   ]
  },
  {
   "cell_type": "code",
   "execution_count": 339,
   "metadata": {},
   "outputs": [],
   "source": [
    "X_processed = preprocessor.fit_transform(X)\n",
    "\n",
    "# Si es matriz dispersa (TF-IDF), conviértela a densa primero (solo si no es muy grande)\n",
    "if scipy.sparse.issparse(X_processed):\n",
    "    X_processed = X_processed.toarray()"
   ]
  },
  {
   "cell_type": "code",
   "execution_count": 340,
   "metadata": {},
   "outputs": [
    {
     "data": {
      "text/plain": [
       "['../data/datasets/preprocessor.joblib']"
      ]
     },
     "execution_count": 340,
     "metadata": {},
     "output_type": "execute_result"
    }
   ],
   "source": [
    "# Guarda el preprocessor entrenado\n",
    "import joblib\n",
    "joblib.dump(preprocessor, \"../data/datasets/preprocessor.joblib\")"
   ]
  },
  {
   "cell_type": "code",
   "execution_count": 341,
   "metadata": {},
   "outputs": [
    {
     "name": "stdout",
     "output_type": "stream",
     "text": [
      "✅ Dataset preprocesado guardado como 'X_ready.csv' y 'y_ready.csv'\n",
      "(2097, 917)\n",
      "(2097,)\n"
     ]
    }
   ],
   "source": [
    "# Guardar como DataFrame\n",
    "X_df = pd.DataFrame(X_processed, index=X.index)\n",
    "X_df.to_csv(\"X_ready.csv\", index=True)\n",
    "y.to_csv(\"y_ready.csv\", index=True)\n",
    "\n",
    "print(\"✅ Dataset preprocesado guardado como 'X_ready.csv' y 'y_ready.csv'\")\n",
    "\n",
    "print(X_df.shape)\n",
    "print(y.shape)"
   ]
  },
  {
   "cell_type": "markdown",
   "metadata": {},
   "source": [
    "Prueba de varianza explicada acumulada"
   ]
  },
  {
   "cell_type": "code",
   "execution_count": 342,
   "metadata": {},
   "outputs": [
    {
     "data": {
      "image/png": "[encoded data removed]",
      "text/plain": [
       "<Figure size 800x500 with 1 Axes>"
      ]
     },
     "metadata": {},
     "output_type": "display_data"
    }
   ],
   "source": [
    "import matplotlib.pyplot as plt\n",
    "from sklearn.decomposition import TruncatedSVD\n",
    "\n",
    "df = pd.read_csv(\"../data/datasets/publications_training_dataset.csv\")\n",
    "df['text'] = (\n",
    "    df['title'].fillna('') + ' ' +\n",
    "    df['keywords'].fillna('')\n",
    ")\n",
    "\n",
    "# === TF-IDF vectorizer ===\n",
    "tfidf = TfidfVectorizer(max_features=3000, stop_words='english')\n",
    "X_tfidf = tfidf.fit_transform(df['text'])\n",
    "\n",
    "# === SVD ===\n",
    "n_components = 1000\n",
    "svd = TruncatedSVD(n_components=n_components, random_state=42)\n",
    "X_svd = svd.fit_transform(X_tfidf)\n",
    "\n",
    "# === Varianza explicada acumulada ===\n",
    "explained_variance = svd.explained_variance_ratio_.cumsum()\n",
    "\n",
    "plt.figure(figsize=(8, 5))\n",
    "plt.plot(np.arange(1, n_components+1), explained_variance, marker='o')\n",
    "plt.xlabel(\"Número de componentes SVD\")\n",
    "plt.ylabel(\"Varianza explicada acumulada\")\n",
    "plt.title(\"Varianza explicada por TruncatedSVD sobre TF-IDF\")\n",
    "plt.grid(True)\n",
    "plt.tight_layout()\n",
    "plt.axhline(y=0.80, color='r', linestyle='--', label='80%')\n",
    "plt.legend()\n",
    "plt.show()"
   ]
  },
  {
   "cell_type": "markdown",
   "metadata": {},
   "source": [
    "## Aplicamos el mismo preprocesamiento sobre el dataset a predecir"
   ]
  },
  {
   "cell_type": "code",
   "execution_count": 343,
   "metadata": {},
   "outputs": [
    {
     "name": "stdout",
     "output_type": "stream",
     "text": [
      "✅ Dataset preprocesado guardado como 'X_ready.csv' y 'y_ready.csv'\n",
      "(1114, 917)\n"
     ]
    }
   ],
   "source": [
    "# === Cargar dataset ===\n",
    "df = pd.read_csv(\"../data/datasets/publications_to_predict_dataset.csv\", index_col='gb_id')\n",
    "\n",
    "df = df.drop(columns=[\"conference_name\", \"quartile_value\"])\n",
    "\n",
    "df['title'] = df['title'].fillna('')\n",
    "df['keywords'] = df['keywords'].fillna('')\n",
    "df['text'] = df['title'] + ' ' + df['keywords']\n",
    "\n",
    "df['jcr_materia_main'] = df['jcr_materias'].fillna('').apply(lambda x: x.split(';')[0] if x else 'unknown')\n",
    "\n",
    "df['citations'] = df['citations'].fillna(0)\n",
    "df['citations_log'] = np.log1p(df['citations'])\n",
    "\n",
    "for col in ['impact_factor', 'percentile', 'international_collab', 'num_countries', 'num_foreign_affils', 'num_spanish_affils']:\n",
    "    df[col] = df[col].fillna(0)\n",
    "\n",
    "for col in ['source', 'editorial', 'publication_type']:\n",
    "    df[col] = df[col].fillna('')\n",
    "    \n",
    "X = df[[\n",
    "    'text', 'language', 'editorial', 'source', 'publication_type',\n",
    "    'jcr_materia_main',\n",
    "    'citations_log', 'impact_factor', 'percentile', 'year',\n",
    "    'international_collab', 'num_countries', 'num_foreign_affils', 'num_spanish_affils'\n",
    "]]\n",
    "\n",
    "preprocessor = joblib.load(\"../data/datasets/preprocessor.joblib\")  # ✅ carga el original\n",
    "X_processed = preprocessor.transform(X)\n",
    "\n",
    "# Si es matriz dispersa (TF-IDF), conviértela a densa primero (solo si no es muy grande)\n",
    "if scipy.sparse.issparse(X_processed):\n",
    "    X_processed = X_processed.toarray()\n",
    "\n",
    "# Guardar como DataFrame\n",
    "X_df = pd.DataFrame(X_processed, index=X.index)\n",
    "X_df.to_csv(\"X_to_predict_ready.csv\", index=True)\n",
    "\n",
    "print(\"✅ Dataset preprocesado guardado como 'X_ready.csv' y 'y_ready.csv'\")\n",
    "\n",
    "print(X_df.shape)"
   ]
  }
 ],
 "metadata": {
  "kernelspec": {
   "display_name": "venv",
   "language": "python",
   "name": "python3"
  },
  "language_info": {
   "codemirror_mode": {
    "name": "ipython",
    "version": 3
   },
   "file_extension": ".py",
   "mimetype": "text/x-python",
   "name": "python",
   "nbconvert_exporter": "python",
   "pygments_lexer": "ipython3",
   "version": "3.12.8"
  }
 },
 "nbformat": 4,
 "nbformat_minor": 2
}
