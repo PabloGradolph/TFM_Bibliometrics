{
 "cells": [
  {
   "cell_type": "code",
   "execution_count": 1,
   "metadata": {},
   "outputs": [
    {
     "name": "stdout",
     "output_type": "stream",
     "text": [
      "✅ Dataset generado con forma: (29, 3329)\n",
      "🔢 Palabras clave totales: 3329\n",
      "👥 Autores con keywords: 29\n"
     ]
    }
   ],
   "source": [
    "import pandas as pd\n",
    "import json\n",
    "import hdbscan\n",
    "from collections import defaultdict\n",
    "\n",
    "# === 1. Cargar autores desde lab_nodes.csv ===\n",
    "lab_nodes_df = pd.read_csv(\"../data/networks/lab_nodes.csv\")\n",
    "author_names = lab_nodes_df['Label'].tolist()\n",
    "\n",
    "# === 2. Cargar el JSON con los datos completos ===\n",
    "with open(\"../../data/data/IPBLN/json/gesbib_authors_ipbln_info.json\", encoding=\"utf-8\") as f:\n",
    "    data_json = json.load(f)\n",
    "\n",
    "# === 3. Crear un diccionario de nombre -> palabrasClave ===\n",
    "# Hay que buscar el nombre en las firmas o en firmaDigitalCsic\n",
    "author_keyword_weights = defaultdict(dict)\n",
    "\n",
    "for id_autor, autor_data in data_json.items():\n",
    "    # Todas las firmas posibles\n",
    "    posibles_nombres = set()\n",
    "    if 'firmaDigitalCsic' in autor_data:\n",
    "        posibles_nombres.add(autor_data['firmaDigitalCsic'].strip())\n",
    "    if 'firmas' in autor_data:\n",
    "        posibles_nombres.update(f.strip() for f in autor_data['firmas'])\n",
    "\n",
    "    # Buscar coincidencia con los autores de lab_nodes\n",
    "    for nombre in author_names:\n",
    "        if nombre in posibles_nombres:\n",
    "            palabras = autor_data.get('palabrasClave', {})\n",
    "            for kw, peso in palabras.items():\n",
    "                author_keyword_weights[nombre][kw] = peso\n",
    "\n",
    "# === 4. Crear DataFrame con autores como filas y keywords como columnas ===\n",
    "df = pd.DataFrame.from_dict(author_keyword_weights, orient='index').fillna(0).astype(int)\n",
    "\n",
    "# === 5. Opcional: guardar a CSV ===\n",
    "df.to_csv(\"Keywords/author_keyword_matrix.csv\")\n",
    "\n",
    "# Mostrar resumen\n",
    "print(\"✅ Dataset generado con forma:\", df.shape)\n",
    "print(\"🔢 Palabras clave totales:\", len(df.columns))\n",
    "print(\"👥 Autores con keywords:\", len(df))\n"
   ]
  }
 ],
 "metadata": {
  "kernelspec": {
   "display_name": "venv",
   "language": "python",
   "name": "python3"
  },
  "language_info": {
   "codemirror_mode": {
    "name": "ipython",
    "version": 3
   },
   "file_extension": ".py",
   "mimetype": "text/x-python",
   "name": "python",
   "nbconvert_exporter": "python",
   "pygments_lexer": "ipython3",
   "version": "3.12.8"
  }
 },
 "nbformat": 4,
 "nbformat_minor": 2
}
