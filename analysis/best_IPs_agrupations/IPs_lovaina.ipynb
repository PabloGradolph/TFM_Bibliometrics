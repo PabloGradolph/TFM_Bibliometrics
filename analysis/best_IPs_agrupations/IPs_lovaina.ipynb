{
 "cells": [
  {
   "cell_type": "code",
   "execution_count": 2,
   "metadata": {},
   "outputs": [
    {
     "name": "stdout",
     "output_type": "stream",
     "text": [
      "29\n",
      "66\n",
      "=== Louvain con distintos resolution ===\n",
      "\n",
      "🧪 Resolution = 0.25\n",
      "  - Número de comunidades: 10\n",
      "  - Modularidad: 0.7712\n",
      "  - Tamaños: {3: 4, 5: 3, 2: 3, 9: 3, 8: 6, 0: 3, 1: 1, 6: 2, 4: 2, 7: 2}\n",
      "\n",
      "🧪 Resolution = 0.5\n",
      "  - Número de comunidades: 10\n",
      "  - Modularidad: 0.7712\n",
      "  - Tamaños: {3: 4, 5: 3, 2: 3, 9: 3, 7: 6, 0: 3, 1: 1, 6: 2, 4: 2, 8: 2}\n",
      "\n",
      "🧪 Resolution = 0.75\n",
      "  - Número de comunidades: 8\n",
      "  - Modularidad: 0.7822\n",
      "  - Tamaños: {0: 4, 7: 5, 3: 6, 4: 6, 5: 3, 6: 1, 1: 2, 2: 2}\n",
      "\n",
      "🧪 Resolution = 1.0\n",
      "  - Número de comunidades: 8\n",
      "  - Modularidad: 0.7822\n",
      "  - Tamaños: {0: 4, 7: 5, 3: 6, 4: 6, 5: 3, 6: 1, 1: 2, 2: 2}\n",
      "\n",
      "🧪 Resolution = 1.5\n",
      "  - Número de comunidades: 9\n",
      "  - Modularidad: 0.7758\n",
      "  - Tamaños: {0: 4, 1: 5, 2: 3, 3: 3, 4: 6, 5: 3, 6: 1, 8: 2, 7: 2}\n",
      "\n",
      "🧪 Resolution = 2.0\n",
      "  - Número de comunidades: 10\n",
      "  - Modularidad: 0.7712\n",
      "  - Tamaños: {4: 4, 1: 3, 2: 3, 3: 3, 7: 6, 6: 3, 0: 1, 8: 2, 5: 2, 9: 2}\n",
      "\n",
      "🧪 Resolution = 3.0\n",
      "  - Número de comunidades: 10\n",
      "  - Modularidad: 0.7712\n",
      "  - Tamaños: {3: 4, 1: 3, 5: 3, 9: 3, 7: 6, 6: 3, 0: 1, 2: 2, 4: 2, 8: 2}\n",
      "\n",
      "🧪 Resolution = 4.0\n",
      "  - Número de comunidades: 10\n",
      "  - Modularidad: 0.7712\n",
      "  - Tamaños: {4: 4, 1: 3, 2: 3, 9: 3, 7: 6, 0: 3, 3: 1, 6: 2, 5: 2, 8: 2}\n",
      "\n",
      "🧪 Resolution = 5.0\n",
      "  - Número de comunidades: 12\n",
      "  - Modularidad: 0.7408\n",
      "  - Tamaños: {1: 4, 6: 3, 2: 3, 9: 2, 4: 2, 7: 3, 8: 3, 11: 1, 0: 2, 3: 2, 5: 2, 10: 2}\n",
      "\n"
     ]
    }
   ],
   "source": [
    "import pandas as pd\n",
    "import networkx as nx\n",
    "import community as community_louvain\n",
    "from collections import Counter\n",
    "\n",
    "# === Cargar nodos y aristas ===\n",
    "nodes_df = pd.read_csv(\"../data/networks/lab_nodes.csv\")\n",
    "edges_df = pd.read_csv(\"../data/networks/lab_edges.csv\")\n",
    "\n",
    "# === Construir grafo no dirigido ===\n",
    "G = nx.Graph()\n",
    "for _, row in nodes_df.iterrows():\n",
    "    G.add_node(row[\"Id\"], label=row[\"Label\"], lab=row[\"Lab\"])\n",
    "for _, row in edges_df.iterrows():\n",
    "    G.add_edge(row[\"Source\"], row[\"Target\"], weight=row[\"Weight\"])\n",
    "\n",
    "print(G.number_of_nodes())\n",
    "print(G.number_of_edges())\n",
    "\n",
    "# === Probar distintos valores de resolution ===\n",
    "resolutions = [0.25, 0.5, 0.75, 1.0, 1.5, 2.0, 3.0, 4.0, 5.0]\n",
    "\n",
    "print(\"=== Louvain con distintos resolution ===\\n\")\n",
    "\n",
    "for res in resolutions:\n",
    "    partition = community_louvain.best_partition(G, weight='weight', resolution=res)\n",
    "    modularity = community_louvain.modularity(partition, G, weight='weight')\n",
    "    num_communities = len(set(partition.values()))\n",
    "    sizes = Counter(partition.values())\n",
    "\n",
    "    print(f\"🧪 Resolution = {res}\")\n",
    "    print(f\"  - Número de comunidades: {num_communities}\")\n",
    "    print(f\"  - Modularidad: {modularity:.4f}\")\n",
    "    print(f\"  - Tamaños: {dict(sizes)}\\n\")"
   ]
  },
  {
   "cell_type": "code",
   "execution_count": 4,
   "metadata": {},
   "outputs": [
    {
     "name": "stdout",
     "output_type": "stream",
     "text": [
      "\n",
      "✅ Mejor partición guardada (res=0.75, modularidad=0.7822) en 'output/louvain_best_partition.csv'\n"
     ]
    }
   ],
   "source": [
    "# === Buscar la mejor partición (mayor modularidad)\n",
    "best_partition = None\n",
    "best_modularity = -1\n",
    "best_res = None\n",
    "\n",
    "for res in resolutions:\n",
    "    partition = community_louvain.best_partition(G, weight='weight', resolution=res)\n",
    "    modularity = community_louvain.modularity(partition, G, weight='weight')\n",
    "    \n",
    "    if modularity > best_modularity:\n",
    "        best_partition = partition\n",
    "        best_modularity = modularity\n",
    "        best_res = res\n",
    "\n",
    "# Guardar en CSV\n",
    "df_partition = pd.DataFrame.from_dict(best_partition, orient='index', columns=['lovaina_community'])\n",
    "df_partition.index.name = 'author_name'\n",
    "df_partition.reset_index(inplace=True)\n",
    "df_partition.to_csv(\"Lovaina/louvain_best_partition.csv\", index=False)\n",
    "\n",
    "print(f\"\\n✅ Mejor partición guardada (res={best_res}, modularidad={best_modularity:.4f}) en 'output/louvain_best_partition.csv'\")"
   ]
  }
 ],
 "metadata": {
  "kernelspec": {
   "display_name": "venv",
   "language": "python",
   "name": "python3"
  },
  "language_info": {
   "codemirror_mode": {
    "name": "ipython",
    "version": 3
   },
   "file_extension": ".py",
   "mimetype": "text/x-python",
   "name": "python",
   "nbconvert_exporter": "python",
   "pygments_lexer": "ipython3",
   "version": "3.12.8"
  }
 },
 "nbformat": 4,
 "nbformat_minor": 2
}
