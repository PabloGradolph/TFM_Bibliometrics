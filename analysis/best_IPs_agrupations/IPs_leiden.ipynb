{
 "cells": [
  {
   "cell_type": "code",
   "execution_count": 1,
   "metadata": {},
   "outputs": [
    {
     "name": "stdout",
     "output_type": "stream",
     "text": [
      "29\n",
      "66\n",
      "[RBConfig] Resolution=0.25 → modularidad=0.3361, comunidades=3\n",
      "[RBConfig] Resolution=0.5 → modularidad=0.4541, comunidades=4\n",
      "[RBConfig] Resolution=0.75 → modularidad=0.5009, comunidades=5\n",
      "[RBConfig] Resolution=1.0 → modularidad=0.5009, comunidades=5\n",
      "[RBConfig] Resolution=1.25 → modularidad=0.5009, comunidades=5\n",
      "[RBConfig] Resolution=1.5 → modularidad=0.5009, comunidades=5\n",
      "[RBConfig] Resolution=2.0 → modularidad=0.4602, comunidades=7\n",
      "[RBConfig] Resolution=2.5 → modularidad=0.4343, comunidades=8\n",
      "[RBConfig] Resolution=3.0 → modularidad=0.3848, comunidades=10\n",
      "[RBConfig] Resolution=3.5 → modularidad=0.3430, comunidades=11\n",
      "[RBConfig] Resolution=4.0 → modularidad=0.2963, comunidades=13\n",
      "[RBConfig] Resolution=5.0 → modularidad=0.2265, comunidades=16\n",
      "[Modularity] clásico → modularidad=0.5009, comunidades=5\n"
     ]
    }
   ],
   "source": [
    "import igraph as ig\n",
    "import leidenalg\n",
    "import pandas as pd\n",
    "import networkx as nx\n",
    "\n",
    "# === Cargar nodos y aristas ===\n",
    "nodes_df = pd.read_csv(\"../data/networks/lab_nodes.csv\")\n",
    "edges_df = pd.read_csv(\"../data/networks/lab_edges.csv\")\n",
    "\n",
    "# === Construir grafo no dirigido ===\n",
    "G = nx.Graph()\n",
    "for _, row in nodes_df.iterrows():\n",
    "    G.add_node(row[\"Id\"], label=row[\"Label\"], lab=row[\"Lab\"])\n",
    "for _, row in edges_df.iterrows():\n",
    "    G.add_edge(row[\"Source\"], row[\"Target\"], weight=row[\"Weight\"])\n",
    "\n",
    "print(G.number_of_nodes())\n",
    "print(G.number_of_edges())\n",
    "\n",
    "# Convertir desde NetworkX\n",
    "G_ig = ig.Graph.TupleList(G.edges(data=True), directed=False, weights=True)\n",
    "\n",
    "# Añadir nodos aislados (que están en G pero no en G_ig)\n",
    "nodos_desconectados = set(G.nodes()) - set(G_ig.vs[\"name\"])\n",
    "for node in nodos_desconectados:\n",
    "    G_ig.add_vertex(name=node)\n",
    "    \n",
    "# Ejecutar Leiden con diferentes resolutions\n",
    "resolutions = [0.25, 0.5, 0.75, 1.0, 1.25, 1.5, 2.0, 2.5, 3.0, 3.5, 4.0, 5.0]\n",
    "\n",
    "for res in resolutions:\n",
    "    rb_partition = leidenalg.find_partition(\n",
    "        G_ig,\n",
    "        leidenalg.RBConfigurationVertexPartition,\n",
    "        resolution_parameter=res\n",
    "    )\n",
    "    print(f\"[RBConfig] Resolution={res} → modularidad={rb_partition.modularity:.4f}, comunidades={len(rb_partition)}\")\n",
    "\n",
    "# Comparativa con modularidad clásica (no parametrizable)\n",
    "mod_partition = leidenalg.find_partition(\n",
    "    G_ig,\n",
    "    leidenalg.ModularityVertexPartition\n",
    ")\n",
    "print(f\"[Modularity] clásico → modularidad={mod_partition.modularity:.4f}, comunidades={len(mod_partition)}\")\n",
    "\n",
    "partition = {}\n",
    "for community_id, nodes in enumerate(mod_partition):\n",
    "    for node in nodes:\n",
    "        partition[G_ig.vs[node][\"name\"]] = community_id\n",
    "\n",
    "for node in G.nodes():\n",
    "    if node not in partition:\n",
    "        partition[node] = -1  # comunidad especial para desconectados\n",
    "\n"
   ]
  },
  {
   "cell_type": "code",
   "execution_count": 2,
   "metadata": {},
   "outputs": [],
   "source": [
    "# === Buscar la mejor partición (mayor modularidad)\n",
    "best_partition = None\n",
    "best_modularity = -1\n",
    "best_res = None\n",
    "\n",
    "# Guardar en CSV\n",
    "df_partition = pd.DataFrame.from_dict(partition, orient='index', columns=['leiden_community'])\n",
    "df_partition.index.name = 'author_name'\n",
    "df_partition.reset_index(inplace=True)\n",
    "df_partition.to_csv(\"Lovaina/leiden_best_partition.csv\", index=False)"
   ]
  },
  {
   "cell_type": "code",
   "execution_count": 23,
   "metadata": {},
   "outputs": [
    {
     "name": "stdout",
     "output_type": "stream",
     "text": [
      "Warning: When  cdn_resources is 'local' jupyter notebook has issues displaying graphics on chrome/safari. Use cdn_resources='in_line' or cdn_resources='remote' if you have issues viewing graphics in a notebook.\n",
      "red_ips_comunidades.html\n"
     ]
    },
    {
     "data": {
      "text/html": [
       "\n",
       "        <iframe\n",
       "            width=\"100%\"\n",
       "            height=\"700px\"\n",
       "            src=\"red_ips_comunidades.html\"\n",
       "            frameborder=\"0\"\n",
       "            allowfullscreen\n",
       "            \n",
       "        ></iframe>\n",
       "        "
      ],
      "text/plain": [
       "<IPython.lib.display.IFrame at 0x1ae7f42ade0>"
      ]
     },
     "metadata": {},
     "output_type": "display_data"
    }
   ],
   "source": [
    "from pyvis.network import Network\n",
    "import networkx as nx\n",
    "from IPython.display import display, IFrame\n",
    "\n",
    "\n",
    "# Crear red\n",
    "net = Network(height='700px', width='100%', notebook=True, directed=False)\n",
    "net.barnes_hut()\n",
    "\n",
    "net.set_options('''\n",
    "var options = {\n",
    "  \"nodes\": {\n",
    "    \"font\": {\n",
    "      \"size\": 16,\n",
    "      \"face\": \"Tahoma\"\n",
    "    },\n",
    "    \"shape\": \"dot\"\n",
    "  },\n",
    "  \"edges\": {\n",
    "    \"color\": {\n",
    "      \"inherit\": true\n",
    "    },\n",
    "    \"smooth\": false\n",
    "  },\n",
    "  \"interaction\": {\n",
    "    \"hover\": true,\n",
    "    \"tooltipDelay\": 200\n",
    "  },\n",
    "  \"physics\": {\n",
    "    \"barnesHut\": {\n",
    "      \"gravitationalConstant\": -8000,\n",
    "      \"springLength\": 150,\n",
    "      \"springConstant\": 0.04,\n",
    "      \"damping\": 0.7\n",
    "    },\n",
    "    \"minVelocity\": 0.75\n",
    "  }\n",
    "}\n",
    "''')\n",
    "\n",
    "\n",
    "# Añadir nodos\n",
    "for node in G.nodes():\n",
    "    community = partition.get(node, -1)\n",
    "    net.add_node(\n",
    "        node,\n",
    "        label=node,  # Se mostrará junto al nodo\n",
    "        title=f\"{node} (Comunidad {community})\",  # Se mostrará en tooltip\n",
    "        group=community,\n",
    "        size=20\n",
    "    )\n",
    "\n",
    "\n",
    "# Añadir aristas\n",
    "for u, v, data in G.edges(data=True):\n",
    "    net.add_edge(u, v, value=data.get('weight', 1))\n",
    "\n",
    "# Exportar y mostrar inline\n",
    "file_path = \"red_ips_comunidades.html\"\n",
    "net.show(file_path)\n",
    "\n",
    "# Mostrar en el notebook directamente\n",
    "display(IFrame(src=file_path, width=\"100%\", height=\"700px\"))\n"
   ]
  }
 ],
 "metadata": {
  "kernelspec": {
   "display_name": "venv",
   "language": "python",
   "name": "python3"
  },
  "language_info": {
   "codemirror_mode": {
    "name": "ipython",
    "version": 3
   },
   "file_extension": ".py",
   "mimetype": "text/x-python",
   "name": "python",
   "nbconvert_exporter": "python",
   "pygments_lexer": "ipython3",
   "version": "3.12.8"
  }
 },
 "nbformat": 4,
 "nbformat_minor": 2
}
